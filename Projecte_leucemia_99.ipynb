{
 "cells": [
  {
   "cell_type": "markdown",
   "id": "8c54619e-2f0f-4db2-9c2d-ac850c55ba2a",
   "metadata": {
    "id": "8c54619e-2f0f-4db2-9c2d-ac850c55ba2a"
   },
   "source": [
    "# CLASSIFICADOR DE CEL·LULES CANCERIGENES BENIGNES / MALIGNES\n",
    "\n",
    "## IMPORTS NECESSARIS\n"
   ]
  },
  {
   "cell_type": "code",
   "execution_count": 1,
   "id": "81620763-5327-457f-bf92-c4c5c4778e45",
   "metadata": {
    "executionInfo": {
     "elapsed": 198,
     "status": "ok",
     "timestamp": 1716045420019,
     "user": {
      "displayName": "Marc Bardeli Gámez",
      "userId": "16692650916302929304"
     },
     "user_tz": -120
    },
    "id": "81620763-5327-457f-bf92-c4c5c4778e45"
   },
   "outputs": [],
   "source": [
    "\n",
    "from imutils import paths\n",
    "import os\n",
    "import numpy as np\n",
    "import random\n",
    "import pandas as pd\n",
    "import matplotlib.pyplot as plt\n",
    "import cv2\n",
    "from PIL import Image\n",
    "import time\n",
    "from skimage import io,color,exposure\n",
    "from sklearn.model_selection import train_test_split\n"
   ]
  },
  {
   "cell_type": "markdown",
   "id": "dd318834-22d3-4083-a37c-5872982a622b",
   "metadata": {
    "id": "dd318834-22d3-4083-a37c-5872982a622b"
   },
   "source": [
    "## Carregar imatges"
   ]
  },
  {
   "cell_type": "code",
   "execution_count": 2,
   "id": "8bf64e97-cd4e-4872-9873-ae37dd68793d",
   "metadata": {
    "colab": {
     "base_uri": "https://localhost:8080/"
    },
    "executionInfo": {
     "elapsed": 794,
     "status": "ok",
     "timestamp": 1716045421793,
     "user": {
      "displayName": "Marc Bardeli Gámez",
      "userId": "16692650916302929304"
     },
     "user_tz": -120
    },
    "id": "8bf64e97-cd4e-4872-9873-ae37dd68793d",
    "outputId": "18b49825-b70d-462c-9d28-ec5bb495ea96"
   },
   "outputs": [
    {
     "name": "stdout",
     "output_type": "stream",
     "text": [
      "Numero de samples de cada carpeta:\n",
      "Benignes:  512\n",
      "ProB:  796\n",
      "PreB:  955\n",
      "early_PreB 979\n"
     ]
    }
   ],
   "source": [
    "def llegir_imatges(ruta):\n",
    "    '''\n",
    "    ruta = ruta de cada carpeta on estan colocades les imatges\n",
    "    return = array numpy amb totes les imatges de la carpeta\n",
    "    Comentat hi ha la opció de fer-ho en arrays de numpy, no se si serà necessari per optimitzar temps\n",
    "    '''\n",
    "    carpeta = os.listdir(ruta)\n",
    "    llista = []\n",
    "    for imatge in carpeta:\n",
    "        ruta_imatge = os.path.join(ruta,imatge)\n",
    "        img = Image.open(ruta_imatge)\n",
    "        llista.append(img)\n",
    "    return llista\n",
    "\n",
    "def llegir_imatges_mal(ruta):\n",
    "    '''\n",
    "    ruta = ruta de cada carpeta on estan colocades les imatges\n",
    "    return = array numpy amb totes les imatges de la carpeta\n",
    "    Comentat hi ha la opció de fer-ho en arrays de numpy, no se si serà necessari per optimitzar temps\n",
    "    '''\n",
    "    carpeta = os.listdir(ruta)\n",
    "    llista = []\n",
    "    for imatge in carpeta:\n",
    "        ruta_imatge = os.path.join(ruta,imatge)\n",
    "        img = Image.open(ruta_imatge)\n",
    "        llista.append(img)\n",
    "    return llista[:200]\n",
    "\n",
    "ruta_cel_benignes = \"./Benign/\"\n",
    "ruta_cel_malignes_ProB = \"./[Malignant] Pro-B/\"\n",
    "ruta_cel_malignes_PreB = \"./[Malignant] Pre-B/\"\n",
    "ruta_cel_malignes_early_PreB = \"./[Malignant] early Pre-B/\"\n",
    "\n",
    "benignes = llegir_imatges(ruta_cel_benignes)\n",
    "proB = llegir_imatges(ruta_cel_malignes_ProB)\n",
    "preB = llegir_imatges(ruta_cel_malignes_PreB)\n",
    "early_preB = llegir_imatges(ruta_cel_malignes_early_PreB)\n",
    "\n",
    "print(\"Numero de samples de cada carpeta:\")\n",
    "print(\"Benignes: \", len(benignes))\n",
    "print(\"ProB: \", len(proB))\n",
    "print(\"PreB: \", len(preB))\n",
    "print(\"early_PreB\", len(early_preB))"
   ]
  },
  {
   "cell_type": "code",
   "execution_count": null,
   "id": "36efc5be",
   "metadata": {
    "id": "36efc5be"
   },
   "outputs": [],
   "source": []
  },
  {
   "cell_type": "markdown",
   "id": "fc6248c2-bd6f-4b44-98a2-c8d02457791d",
   "metadata": {
    "id": "fc6248c2-bd6f-4b44-98a2-c8d02457791d"
   },
   "source": [
    "### S'haurà de fer un tractament de dades, hi ha moltes menys benignes que de qualsevol altre tipus"
   ]
  },
  {
   "cell_type": "markdown",
   "id": "909e8503-694b-4c98-810c-18838d51cf56",
   "metadata": {
    "id": "909e8503-694b-4c98-810c-18838d51cf56"
   },
   "source": [
    "#### Etiqueto i barrejo les imatges per tal de poder fer els diferents conjunts d'entrenament, de moment com que benignes es el que menys imatges té, posare tante imatges com benignes tinc de cada carpeta"
   ]
  },
  {
   "cell_type": "code",
   "execution_count": 3,
   "id": "a87a0630-4e99-46bf-94cf-ae74565d1dea",
   "metadata": {
    "colab": {
     "base_uri": "https://localhost:8080/"
    },
    "executionInfo": {
     "elapsed": 289,
     "status": "ok",
     "timestamp": 1716045425133,
     "user": {
      "displayName": "Marc Bardeli Gámez",
      "userId": "16692650916302929304"
     },
     "user_tz": -120
    },
    "id": "a87a0630-4e99-46bf-94cf-ae74565d1dea",
    "outputId": "e2592db7-122b-424e-f407-04c1deca05d3"
   },
   "outputs": [
    {
     "name": "stdout",
     "output_type": "stream",
     "text": [
      "ben\n",
      "ben\n",
      "ben\n",
      "ben\n",
      "1112\n"
     ]
    }
   ],
   "source": [
    "llista_etiquetades = []\n",
    "\n",
    "for i in range(len(benignes)):\n",
    "    llista_etiquetades.append([benignes[i],'ben'])\n",
    "\n",
    "for i in range(200):\n",
    "    llista_etiquetades.append([proB[i],'mal'])\n",
    "    llista_etiquetades.append([preB[i],'mal'])\n",
    "    llista_etiquetades.append([early_preB[i],'mal'])\n",
    "\n",
    "for i in range(4):\n",
    "  print(llista_etiquetades[i][-1])\n",
    "print(len(llista_etiquetades))\n",
    "\n",
    "random.shuffle(llista_etiquetades)\n",
    "\n"
   ]
  },
  {
   "cell_type": "markdown",
   "id": "f21f48fc-bbb4-4646-9eec-eb1acec43316",
   "metadata": {
    "id": "f21f48fc-bbb4-4646-9eec-eb1acec43316"
   },
   "source": [
    "### Separem la llista de imatges i etiquetes i les posem en 2 dataframes, un sera pel test i l'altre pel train"
   ]
  },
  {
   "cell_type": "code",
   "execution_count": 4,
   "id": "dccfd1d9-37b3-48fb-9e2f-3f2db573ae14",
   "metadata": {
    "colab": {
     "base_uri": "https://localhost:8080/"
    },
    "executionInfo": {
     "elapsed": 35165,
     "status": "ok",
     "timestamp": 1716045461972,
     "user": {
      "displayName": "Marc Bardeli Gámez",
      "userId": "16692650916302929304"
     },
     "user_tz": -120
    },
    "id": "dccfd1d9-37b3-48fb-9e2f-3f2db573ae14",
    "outputId": "361922a6-71e8-4adc-f123-210ac4a80ea5"
   },
   "outputs": [
    {
     "name": "stdout",
     "output_type": "stream",
     "text": [
      "Number of training samples: 889\n",
      "Number of testing samples: 223\n",
      "Example training sample path: <PIL.JpegImagePlugin.JpegImageFile image mode=RGB size=1024x768 at 0x1F80D517A90>\n",
      "Example training sample label: mal\n",
      "(223, 2)\n"
     ]
    }
   ],
   "source": [
    "paths, labels = zip(*llista_etiquetades)\n",
    "\n",
    "train_paths, test_paths, train_labels, test_labels = train_test_split(paths, labels, test_size=0.2, random_state=42)\n",
    "\n",
    "train = pd.DataFrame({'Path': train_paths, 'Label': train_labels})\n",
    "test = pd.DataFrame({'Path': test_paths, 'Label': test_labels})\n",
    "\n",
    "print(\"Number of training samples:\", len(train))\n",
    "print(\"Number of testing samples:\", len(test))\n",
    "\n",
    "print(\"Example training sample path:\", train.iloc[0]['Path'])\n",
    "print(\"Example training sample label:\", train.iloc[0]['Label'])\n",
    "\n",
    "\n",
    "print(test.shape)"
   ]
  },
  {
   "cell_type": "code",
   "execution_count": 5,
   "id": "JrDSqDgaOVUa",
   "metadata": {
    "executionInfo": {
     "elapsed": 258,
     "status": "ok",
     "timestamp": 1716045465849,
     "user": {
      "displayName": "Marc Bardeli Gámez",
      "userId": "16692650916302929304"
     },
     "user_tz": -120
    },
    "id": "JrDSqDgaOVUa"
   },
   "outputs": [],
   "source": [
    "import pickle\n",
    "def save_features_labels(features, labels, filename):\n",
    "    with open(filename, 'wb') as f:\n",
    "        pickle.dump((features, labels), f)\n",
    "\n",
    "def load_features_labels(filename):\n",
    "    with open(filename, 'rb') as f:\n",
    "        return pickle.load(f)\n",
    "\n",
    "train_features = []\n",
    "train_labels =[]\n",
    "test_features = []\n",
    "test_labels =[]\n",
    "train_features, train_labels = load_features_labels('train_features_labels_lbp_bi_train.pkl')\n",
    "\n",
    "test_features, test_labels = load_features_labels('test_features_labels_lbp_bi_test.pkl')\n"
   ]
  },
  {
   "cell_type": "markdown",
   "id": "a9ee2937-c08d-4abb-be02-97fedc3dae5d",
   "metadata": {
    "id": "a9ee2937-c08d-4abb-be02-97fedc3dae5d"
   },
   "source": [
    "##### Aqui tenim els primers classificadors implementats, son classificadors més simples i no s'obtenen uns resultats lo suficientment precissos com per considerarlo adequat  al reconeixement de celules beninges o malignes."
   ]
  },
  {
   "cell_type": "code",
   "execution_count": 6,
   "id": "IQ0zrfO1vLGd",
   "metadata": {
    "colab": {
     "base_uri": "https://localhost:8080/"
    },
    "executionInfo": {
     "elapsed": 963,
     "status": "ok",
     "timestamp": 1716045468040,
     "user": {
      "displayName": "Marc Bardeli Gámez",
      "userId": "16692650916302929304"
     },
     "user_tz": -120
    },
    "id": "IQ0zrfO1vLGd",
    "outputId": "a04f8e05-891a-4666-f61b-22b65737eb0a"
   },
   "outputs": [
    {
     "name": "stdout",
     "output_type": "stream",
     "text": [
      "Train Accuracy: 0.6348314606741573\n",
      "Test Accuracy: 0.6233183856502242\n",
      "Test Accuracy with Random Forest: 0.8878923766816144\n",
      "              precision    recall  f1-score   support\n",
      "\n",
      "         ben       0.88      0.84      0.86        91\n",
      "         mal       0.89      0.92      0.91       132\n",
      "\n",
      "    accuracy                           0.89       223\n",
      "   macro avg       0.89      0.88      0.88       223\n",
      "weighted avg       0.89      0.89      0.89       223\n",
      "\n"
     ]
    }
   ],
   "source": [
    "from math import radians\n",
    "import os\n",
    "import numpy as np\n",
    "from skimage import io, color, img_as_ubyte\n",
    "from skimage.feature import local_binary_pattern\n",
    "from sklearn.model_selection import train_test_split\n",
    "from sklearn.svm import SVC\n",
    "from sklearn.ensemble import RandomForestClassifier\n",
    "from sklearn.metrics import accuracy_score\n",
    "import pandas as pd\n",
    "from sklearn.metrics import classification_report\n",
    "# LBP\n",
    "radi = 3\n",
    "n_p = 8 * radi\n",
    "\n",
    "def extract_lbp_features(gray_image):\n",
    "    lbp = local_binary_pattern(gray_image, n_p, radi, method='uniform')\n",
    "    hist, _ = np.histogram(lbp.ravel(), bins=np.arange(0, n_p + 3), range=(0, n_p + 2))\n",
    "    hist = hist.astype(\"float\")\n",
    "    hist /= (hist.sum() + 1e-7)\n",
    "    return hist\n",
    "\n",
    "#SI EXISTEIX TRAIN_FEATURES I ESTA BUIT FEM EL EXTRACT FEATURES, SI NO L'HEM CARREGADA \n",
    "if len(train_features) == 0 or len(train_labels) == 0:\n",
    "  train_features = []\n",
    "  train_labels = []\n",
    "\n",
    "  for index, row in train.iterrows():\n",
    "      image_path = row['Path'].filename\n",
    "      label = row['Label']\n",
    "      if os.path.exists(image_path):\n",
    "          image = img_as_ubyte(io.imread(image_path))\n",
    "          gray_image = color.rgb2gray(image)\n",
    "          lbp_features = extract_lbp_features(gray_image)\n",
    "          train_features.append(lbp_features)\n",
    "          train_labels.append(label)\n",
    "      else:\n",
    "          print(f\"Image not found at path: {image_path}\")\n",
    "\n",
    "  #prova d'entrenament amb resultat amb només train\n",
    "  train_features = np.array(train_features)\n",
    "  train_labels = np.array(train_labels)\n",
    "X_train, X_test, y_train, y_test = train_test_split(train_features, train_labels, test_size=0.2, random_state=42)\n",
    "\n",
    "# SVC\n",
    "svm_classifier = SVC(kernel='linear')\n",
    "svm_classifier.fit(X_train, y_train)\n",
    "y_pred = svm_classifier.predict(X_test)\n",
    "\n",
    "accuracy = accuracy_score(y_test, y_pred)\n",
    "print(\"Train Accuracy:\", accuracy)\n",
    "\n",
    "#Test\n",
    "if len(train_features) == 0 or len(train_labels) == 0:\n",
    "  test_features = []\n",
    "  test_labels = []\n",
    "\n",
    "  for index, row in test.iterrows():\n",
    "      image_path = row['Path'].filename\n",
    "      label = row['Label']\n",
    "      if os.path.exists(image_path):\n",
    "          image = img_as_ubyte(io.imread(image_path))\n",
    "          gray_image = color.rgb2gray(image)\n",
    "          lbp_features = extract_lbp_features(gray_image)\n",
    "          test_features.append(lbp_features)\n",
    "          test_labels.append(label)\n",
    "      else:\n",
    "          print(\"Error\")\n",
    "\n",
    "\n",
    "test_features = np.array(test_features)\n",
    "test_labels = np.array(test_labels)\n",
    "test_predictions = svm_classifier.predict(test_features)\n",
    "\n",
    "test_accuracy = accuracy_score(test_labels, test_predictions)\n",
    "print(\"Test Accuracy:\", test_accuracy)\n",
    "\n",
    "#RANDOM FOREST\n",
    "# Crear y entrenar el clasificador Random Forest\n",
    "rf_classifier = RandomForestClassifier()\n",
    "rf_classifier.fit(train_features, train_labels)\n",
    "\n",
    "# Realizar predicciones en el conjunto de prueba\n",
    "test_predictions_rf = rf_classifier.predict(test_features)\n",
    "\n",
    "# Calcular y mostrar la precisión del Random Forest\n",
    "test_accuracy_rf = accuracy_score(test_labels, test_predictions_rf)\n",
    "print(\"Test Accuracy with Random Forest:\", test_accuracy_rf)\n",
    "print(classification_report(test_labels, test_predictions_rf))"
   ]
  },
  {
   "cell_type": "code",
   "execution_count": 7,
   "id": "_qNUkIgzJBwv",
   "metadata": {
    "colab": {
     "base_uri": "https://localhost:8080/",
     "height": 807
    },
    "executionInfo": {
     "elapsed": 490,
     "status": "ok",
     "timestamp": 1716045470720,
     "user": {
      "displayName": "Marc Bardeli Gámez",
      "userId": "16692650916302929304"
     },
     "user_tz": -120
    },
    "id": "_qNUkIgzJBwv",
    "outputId": "e555105e-773a-40c5-c383-b09a47d26e31"
   },
   "outputs": [
    {
     "data": {
      "image/png": "[encoded data removed]",
      "text/plain": [
       "<Figure size 1000x1000 with 2 Axes>"
      ]
     },
     "metadata": {},
     "output_type": "display_data"
    }
   ],
   "source": [
    "from sklearn.metrics import confusion_matrix, ConfusionMatrixDisplay\n",
    "cm = confusion_matrix(test_labels, test_predictions_rf, labels=rf_classifier.classes_)\n",
    "disp = ConfusionMatrixDisplay(confusion_matrix=cm, display_labels=rf_classifier.classes_)\n",
    "\n",
    "\n",
    "fig, ax = plt.subplots(figsize=(10, 10))\n",
    "disp.plot(ax=ax)\n",
    "plt.show()"
   ]
  },
  {
   "cell_type": "code",
   "execution_count": 8,
   "id": "vj0r9znUJBmZ",
   "metadata": {
    "executionInfo": {
     "elapsed": 186,
     "status": "ok",
     "timestamp": 1716045473783,
     "user": {
      "displayName": "Marc Bardeli Gámez",
      "userId": "16692650916302929304"
     },
     "user_tz": -120
    },
    "id": "vj0r9znUJBmZ"
   },
   "outputs": [],
   "source": [
    "\n",
    "#save_features_labels(train_features, train_labels, 'train_features_labels_lbp_bi_train.pkl')\n",
    "\n",
    "#save_features_labels(test_features, test_labels, 'test_features_labels_lbp_bi_test.pkl')\n",
    "\n"
   ]
  },
  {
   "cell_type": "code",
   "execution_count": 9,
   "id": "yNyeYMSiMW9V",
   "metadata": {
    "executionInfo": {
     "elapsed": 2,
     "status": "ok",
     "timestamp": 1716045474857,
     "user": {
      "displayName": "Marc Bardeli Gámez",
      "userId": "16692650916302929304"
     },
     "user_tz": -120
    },
    "id": "yNyeYMSiMW9V"
   },
   "outputs": [],
   "source": [
    "train_features = []\n",
    "train_labels =[]\n",
    "test_features = []\n",
    "test_labels =[]\n",
    "train_features, train_labels = load_features_labels('train_features_labels_lbp_multi_train.pkl')\n",
    "\n",
    "\n",
    "test_features, test_labels = load_features_labels('test_features_labels_lbp_multi_test.pkl')"
   ]
  },
  {
   "cell_type": "code",
   "execution_count": 10,
   "id": "NLNsM-xnSQXo",
   "metadata": {
    "id": "NLNsM-xnSQXo"
   },
   "outputs": [
    {
     "name": "stdout",
     "output_type": "stream",
     "text": [
      "ben\n",
      "ben\n",
      "ben\n",
      "ben\n",
      "2048\n",
      "Number of training samples: 1638\n",
      "Number of testing samples: 410\n",
      "Example training sample path: <PIL.JpegImagePlugin.JpegImageFile image mode=RGB size=1024x768 at 0x1F80E6ED090>\n",
      "Example training sample label: proB\n",
      "(410, 2)\n"
     ]
    }
   ],
   "source": [
    "llista_etiquetades = []\n",
    "\n",
    "for i in range(len(benignes)):\n",
    "    llista_etiquetades.append([benignes[i],'ben'])\n",
    "\n",
    "for i in range(len(benignes)):\n",
    "    llista_etiquetades.append([proB[i],'proB'])\n",
    "    llista_etiquetades.append([preB[i],'preB'])\n",
    "    llista_etiquetades.append([early_preB[i],'early_preB'])\n",
    "\n",
    "for i in range(4):\n",
    "  print(llista_etiquetades[i][-1])\n",
    "print(len(llista_etiquetades))\n",
    "\n",
    "random.shuffle(llista_etiquetades)\n",
    "\n",
    "paths, labels = zip(*llista_etiquetades)\n",
    "\n",
    "train_paths, test_paths, train_labels, test_labels = train_test_split(paths, labels, test_size=0.2, random_state=42)\n",
    "\n",
    "train = pd.DataFrame({'Path': train_paths, 'Label': train_labels})\n",
    "test = pd.DataFrame({'Path': test_paths, 'Label': test_labels})\n",
    "\n",
    "print(\"Number of training samples:\", len(train))\n",
    "print(\"Number of testing samples:\", len(test))\n",
    "\n",
    "print(\"Example training sample path:\", train.iloc[0]['Path'])\n",
    "print(\"Example training sample label:\", train.iloc[0]['Label'])\n",
    "\n",
    "print(test.shape)"
   ]
  },
  {
   "cell_type": "markdown",
   "id": "df70e890-80a9-421a-93c6-d5d166f1a990",
   "metadata": {
    "id": "df70e890-80a9-421a-93c6-d5d166f1a990"
   },
   "source": [
    "#### Ara repetirem els mateixos classificadors més simples pero amb una classificació multiclasse per veure com es comporten."
   ]
  },
  {
   "cell_type": "code",
   "execution_count": 11,
   "id": "26b41d9b-1ca8-443b-a41e-d1ce39d31721",
   "metadata": {
    "colab": {
     "base_uri": "https://localhost:8080/"
    },
    "executionInfo": {
     "elapsed": 3223,
     "status": "ok",
     "timestamp": 1716045561091,
     "user": {
      "displayName": "Marc Bardeli Gámez",
      "userId": "16692650916302929304"
     },
     "user_tz": -120
    },
    "id": "26b41d9b-1ca8-443b-a41e-d1ce39d31721",
    "outputId": "8d4ff9f5-dfe6-47ba-8d10-e28de1072e1c"
   },
   "outputs": [
    {
     "name": "stdout",
     "output_type": "stream",
     "text": [
      "Train Accuracy: 0.25914634146341464\n",
      "Test Accuracy: 0.21707317073170732\n",
      "Test Accuracy with Random Forest: 0.2707317073170732\n",
      "              precision    recall  f1-score   support\n",
      "\n",
      "         ben       0.23      0.29      0.26        89\n",
      "  early_preB       0.30      0.24      0.26       110\n",
      "        preB       0.32      0.26      0.29       120\n",
      "        proB       0.25      0.31      0.27        91\n",
      "\n",
      "    accuracy                           0.27       410\n",
      "   macro avg       0.27      0.27      0.27       410\n",
      "weighted avg       0.28      0.27      0.27       410\n",
      "\n"
     ]
    }
   ],
   "source": [
    "\n",
    "if len(train_features) == 0 or len(train_labels) == 0:\n",
    "  train_features = []\n",
    "  train_labels = []\n",
    "\n",
    "  for index, row in train.iterrows():\n",
    "      image_path = row['Path'].filename\n",
    "      label = row['Label']\n",
    "      if os.path.exists(image_path):\n",
    "          image = img_as_ubyte(io.imread(image_path))\n",
    "          gray_image = color.rgb2gray(image)\n",
    "          lbp_features = extract_lbp_features(gray_image)\n",
    "          train_features.append(lbp_features)\n",
    "          train_labels.append(label)\n",
    "      else:\n",
    "          print(f\"Image not found at path: {image_path}\")\n",
    "\n",
    "#prova d'entrenament amb resultat amb només train\n",
    "train_features = np.array(train_features)\n",
    "train_labels = np.array(train_labels)\n",
    "X_train, X_test, y_train, y_test = train_test_split(train_features, train_labels, test_size=0.2, random_state=42)\n",
    "\n",
    "# SVC\n",
    "svm_classifier = SVC(kernel='linear')\n",
    "svm_classifier.fit(X_train, y_train)\n",
    "y_pred = svm_classifier.predict(X_test)\n",
    "\n",
    "accuracy = accuracy_score(y_test, y_pred)\n",
    "print(\"Train Accuracy:\", accuracy)\n",
    "\n",
    "#Test\n",
    "if len(test_features) == 0 or len(test_labels) == 0:\n",
    "  test_features = []\n",
    "  test_labels = []\n",
    "\n",
    "  for index, row in test.iterrows():\n",
    "      image_path = row['Path'].filename\n",
    "      label = row['Label']\n",
    "      if os.path.exists(image_path):\n",
    "          image = img_as_ubyte(io.imread(image_path))\n",
    "          gray_image = color.rgb2gray(image)\n",
    "          lbp_features = extract_lbp_features(gray_image)\n",
    "          test_features.append(lbp_features)\n",
    "          test_labels.append(label)\n",
    "      else:\n",
    "          print(\"Error\")\n",
    "\n",
    "\n",
    "test_features = np.array(test_features)\n",
    "test_labels = np.array(test_labels)\n",
    "test_predictions = svm_classifier.predict(test_features)\n",
    "\n",
    "test_accuracy = accuracy_score(test_labels, test_predictions)\n",
    "print(\"Test Accuracy:\", test_accuracy)\n",
    "\n",
    "#RANDOM FOREST\n",
    "# Crear y entrenar el clasificador Random Forest\n",
    "rf_classifier = RandomForestClassifier()\n",
    "rf_classifier.fit(train_features, train_labels)\n",
    "\n",
    "# Realizar predicciones en el conjunto de prueba\n",
    "test_predictions_rf = rf_classifier.predict(test_features)\n",
    "\n",
    "# Calcular y mostrar la precisión del Random Forest\n",
    "test_accuracy_rf = accuracy_score(test_labels, test_predictions_rf)\n",
    "print(\"Test Accuracy with Random Forest:\", test_accuracy_rf)\n",
    "print(classification_report(test_labels, test_predictions_rf))"
   ]
  },
  {
   "cell_type": "code",
   "execution_count": 12,
   "id": "ghqGyCRRJ7o4",
   "metadata": {
    "colab": {
     "base_uri": "https://localhost:8080/",
     "height": 807
    },
    "executionInfo": {
     "elapsed": 498,
     "status": "ok",
     "timestamp": 1716045726883,
     "user": {
      "displayName": "Marc Bardeli Gámez",
      "userId": "16692650916302929304"
     },
     "user_tz": -120
    },
    "id": "ghqGyCRRJ7o4",
    "outputId": "0f871cff-68ce-4dad-e93a-9ff701fbc313"
   },
   "outputs": [
    {
     "data": {
      "image/png": "[encoded data removed]",
      "text/plain": [
       "<Figure size 1000x1000 with 2 Axes>"
      ]
     },
     "metadata": {},
     "output_type": "display_data"
    }
   ],
   "source": [
    "from sklearn.metrics import confusion_matrix, ConfusionMatrixDisplay\n",
    "cm = confusion_matrix(test_labels, test_predictions_rf, labels=rf_classifier.classes_)\n",
    "disp = ConfusionMatrixDisplay(confusion_matrix=cm, display_labels=rf_classifier.classes_)\n",
    "\n",
    "\n",
    "fig, ax = plt.subplots(figsize=(10, 10))\n",
    "disp.plot(ax=ax)\n",
    "plt.show()"
   ]
  },
  {
   "cell_type": "code",
   "execution_count": 13,
   "id": "4sorqkcKDSAR",
   "metadata": {
    "executionInfo": {
     "elapsed": 224,
     "status": "ok",
     "timestamp": 1716042969376,
     "user": {
      "displayName": "Marc Bardeli Gámez",
      "userId": "16692650916302929304"
     },
     "user_tz": -120
    },
    "id": "4sorqkcKDSAR"
   },
   "outputs": [],
   "source": [
    "\n",
    "\n",
    "\n",
    "#save_features_labels(train_features, train_labels, 'train_features_labels_lbp_multi_train.pkl')\n",
    "\n",
    "\n",
    "\n",
    "\n",
    "#save_features_labels(test_features, test_labels, 'test_features_labels_lbp_multi_test.pkl')\n",
    "\n"
   ]
  },
  {
   "cell_type": "markdown",
   "id": "6758130b-40f3-4a80-bf94-1026edf54f2a",
   "metadata": {},
   "source": [
    "#### Ligth GBM"
   ]
  },
  {
   "cell_type": "code",
   "execution_count": 30,
   "id": "4ce6007c-8a51-4154-b8e5-3a7181cc0cc5",
   "metadata": {
    "colab": {
     "base_uri": "https://localhost:8080/"
    },
    "executionInfo": {
     "elapsed": 73641,
     "status": "ok",
     "timestamp": 1716045871388,
     "user": {
      "displayName": "Marc Bardeli Gámez",
      "userId": "16692650916302929304"
     },
     "user_tz": -120
    },
    "id": "4ce6007c-8a51-4154-b8e5-3a7181cc0cc5",
    "outputId": "1062f72e-e8a4-47bd-9934-e62898a4ff71"
   },
   "outputs": [
    {
     "name": "stdout",
     "output_type": "stream",
     "text": [
      "Training until validation scores don't improve for 10 rounds\n",
      "Early stopping, best iteration is:\n",
      "[24]\ttraining's multi_logloss: 0.00901791\tvalid_1's multi_logloss: 0.250906\n",
      "Test Accuracy with LightGBM: 0.9219512195121952\n",
      "              precision    recall  f1-score   support\n",
      "\n",
      "           0       0.91      0.89      0.90        97\n",
      "           1       0.86      0.93      0.89       103\n",
      "           2       0.98      0.95      0.96       113\n",
      "           3       0.94      0.92      0.93        97\n",
      "\n",
      "    accuracy                           0.92       410\n",
      "   macro avg       0.92      0.92      0.92       410\n",
      "weighted avg       0.92      0.92      0.92       410\n",
      "\n"
     ]
    }
   ],
   "source": [
    "import lightgbm as lgb\n",
    "from sklearn.preprocessing import LabelEncoder\n",
    "from sklearn.metrics import accuracy_score\n",
    "import numpy as np\n",
    "import pandas as pd\n",
    "\n",
    "\n",
    "train_features, train_labels = load_features_labels('train_features_labels_lbp_multi_train.pkl')\n",
    "\n",
    "\n",
    "test_features, test_labels = load_features_labels('test_features_labels_lbp_multi_test.pkl')\n",
    "\n",
    "\n",
    "label_encoder = LabelEncoder()\n",
    "train_labels_encoded = label_encoder.fit_transform(train_labels)\n",
    "test_labels_encoded = label_encoder.transform(test_labels)\n",
    "\n",
    "\n",
    "lgb_train = lgb.Dataset(train_features, train_labels_encoded)\n",
    "lgb_test = lgb.Dataset(test_features, test_labels_encoded, reference=lgb_train)\n",
    "\n",
    "# Parametres\n",
    "params = {\n",
    "    'objective': 'multiclass',\n",
    "    'num_class': len(np.unique(train_labels_encoded)),  #Nº de classes\n",
    "    'metric': 'multi_logloss', #Metricac\n",
    "    'verbosity': -1,  #logs\n",
    "    'boosting_type': 'gbdt',  # Gradient Boosting Decision Tree\n",
    "    'num_leaves': 31,  # Nº de fulles\n",
    "    'learning_rate': 0.25,  # Learning rate\n",
    "    'feature_fraction': 0.9,  # Selecció random del 90% de features per entrenar cada arbre\n",
    "    'bagging_fraction': 0.8,  # Selecció random del 90% de dades per entrenar cada arbre\n",
    "    'bagging_freq': 5,  # Fer bagging cada 5 iterations\n",
    "    'seed': 42  # Random seed\n",
    "}\n",
    "\n",
    "\n",
    "num_round = 1000\n",
    "\n",
    "bst = lgb.train(\n",
    "    params,\n",
    "    lgb_train,\n",
    "    num_boost_round=num_round,\n",
    "    valid_sets=[lgb_train, lgb_test],\n",
    "    callbacks=[lgb.early_stopping(stopping_rounds=10)]\n",
    ")\n",
    "\n",
    "\n",
    "lgb_pred = bst.predict(test_features, num_iteration=bst.best_iteration)\n",
    "lgb_pred = [np.argmax(pred) for pred in lgb_pred]\n",
    "\n",
    "test_accuracy_lgb = accuracy_score(test_labels_encoded, lgb_pred)\n",
    "print(\"Test Accuracy with LightGBM:\", test_accuracy_lgb)\n",
    "print(classification_report(test_labels_encoded, lgb_pred))"
   ]
  },
  {
   "cell_type": "code",
   "execution_count": 14,
   "id": "7UOwTmnfJF7W",
   "metadata": {
    "executionInfo": {
     "elapsed": 598,
     "status": "ok",
     "timestamp": 1716045671032,
     "user": {
      "displayName": "Marc Bardeli Gámez",
      "userId": "16692650916302929304"
     },
     "user_tz": -120
    },
    "id": "7UOwTmnfJF7W"
   },
   "outputs": [],
   "source": [
    "train_features = []\n",
    "train_labels =[]\n",
    "test_features = []\n",
    "test_labels = []\n",
    "train_features, train_labels = load_features_labels('train_features_labels_hog_train.pkl')\n",
    "\n",
    "\n",
    "test_features, test_labels = load_features_labels('test_features_labels_hog_test.pkl')"
   ]
  },
  {
   "cell_type": "code",
   "execution_count": 15,
   "id": "pbmAX9rYDbLm",
   "metadata": {
    "colab": {
     "base_uri": "https://localhost:8080/"
    },
    "executionInfo": {
     "elapsed": 20597,
     "status": "ok",
     "timestamp": 1716045693917,
     "user": {
      "displayName": "Marc Bardeli Gámez",
      "userId": "16692650916302929304"
     },
     "user_tz": -120
    },
    "id": "pbmAX9rYDbLm",
    "outputId": "3a2d200e-647d-4392-e127-5e8d48376f64"
   },
   "outputs": [
    {
     "name": "stdout",
     "output_type": "stream",
     "text": [
      "Train Accuracy: 1.0\n",
      "Test Accuracy: 0.526829268292683\n",
      "Test Accuracy with Random Forest: 0.5975609756097561\n",
      "              precision    recall  f1-score   support\n",
      "\n",
      "         ben       0.48      0.40      0.44        97\n",
      "  early_preB       0.62      0.62      0.62       103\n",
      "        preB       0.61      0.54      0.57       113\n",
      "        proB       0.65      0.84      0.73        97\n",
      "\n",
      "    accuracy                           0.60       410\n",
      "   macro avg       0.59      0.60      0.59       410\n",
      "weighted avg       0.59      0.60      0.59       410\n",
      "\n"
     ]
    }
   ],
   "source": [
    "import os\n",
    "import numpy as np\n",
    "import pandas as pd\n",
    "from skimage import io, color\n",
    "from skimage.util import img_as_ubyte\n",
    "from skimage.transform import resize\n",
    "from skimage.feature import hog\n",
    "from sklearn.metrics import classification_report\n",
    "from sklearn.preprocessing import LabelEncoder\n",
    "\n",
    "def calculate_hog_features(image):\n",
    "\n",
    "    if len(image.shape) == 2 or image.shape[2] == 1:\n",
    "        # Imagen en escala de grises\n",
    "        image = resize(image, (128, 64))\n",
    "        fd = hog(image, orientations=9, pixels_per_cell=(8, 8),\n",
    "                 cells_per_block=(2, 2), visualize=False, channel_axis=None)\n",
    "    else:\n",
    "        # Imagen a color\n",
    "        image = resize(image, (128, 64))\n",
    "        fd = hog(image, orientations=9, pixels_per_cell=(8, 8),\n",
    "                 cells_per_block=(2, 2), visualize=False, channel_axis=-1)\n",
    "    return fd\n",
    "\n",
    "\n",
    "if len(train_features) == 0 or len(train_labels) == 0:\n",
    "  train_features = []\n",
    "  train_labels = []\n",
    "\n",
    "\n",
    "  for index, row in train.iterrows():\n",
    "      image_path = row['Path'].filename\n",
    "      label = row['Label']\n",
    "      if os.path.exists(image_path):\n",
    "          image = img_as_ubyte(io.imread(image_path))\n",
    "\n",
    "          hog_features = calculate_hog_features(image)\n",
    "          train_features.append(hog_features)\n",
    "          train_labels.append(label)\n",
    "      else:\n",
    "          print(f\"Image not found at path: {image_path}\")\n",
    "\n",
    "\n",
    "train_features = np.array(train_features)\n",
    "train_labels = np.array(train_labels)\n",
    "\n",
    "\n",
    "\n",
    "\n",
    "svm_classifier = SVC(kernel='linear')\n",
    "svm_classifier.fit(train_features, train_labels)\n",
    "y_pred = svm_classifier.predict(train_features)\n",
    "\n",
    "train_accuracy = accuracy_score(train_labels, y_pred)\n",
    "print(\"Train Accuracy:\", train_accuracy)\n",
    "\n",
    "\n",
    "if len(test_features) == 0 or len(test_labels) == 0:\n",
    "  test_features = []\n",
    "  test_labels = []\n",
    "\n",
    "\n",
    "  for index, row in test.iterrows():\n",
    "      image_path = row['Path'].filename\n",
    "      label = row['Label']\n",
    "      if os.path.exists(image_path):\n",
    "          image = img_as_ubyte(io.imread(image_path))\n",
    "\n",
    "          hog_features = calculate_hog_features(image)\n",
    "          test_features.append(hog_features)\n",
    "          test_labels.append(label)\n",
    "      else:\n",
    "          print(f\"Image not found at path: {image_path}\")\n",
    "\n",
    "\n",
    "test_features = np.array(test_features)\n",
    "test_labels = np.array(test_labels)\n",
    "\n",
    "\n",
    "y_pred = svm_classifier.predict(test_features)\n",
    "\n",
    "test_accuracy = accuracy_score(test_labels, y_pred)\n",
    "print(\"Test Accuracy:\", test_accuracy)\n",
    "\n",
    "#RANDOM FOREST\n",
    "\n",
    "rf_classifier = RandomForestClassifier()\n",
    "rf_classifier.fit(train_features, train_labels)\n",
    "\n",
    "\n",
    "test_predictions_rf = rf_classifier.predict(test_features)\n",
    "\n",
    "\n",
    "test_accuracy_rf = accuracy_score(test_labels, test_predictions_rf)\n",
    "print(\"Test Accuracy with Random Forest:\", test_accuracy_rf)\n",
    "print(classification_report(test_labels, test_predictions_rf))"
   ]
  },
  {
   "cell_type": "code",
   "execution_count": 16,
   "id": "zNHRu-ejDbB0",
   "metadata": {
    "colab": {
     "base_uri": "https://localhost:8080/",
     "height": 807
    },
    "executionInfo": {
     "elapsed": 491,
     "status": "ok",
     "timestamp": 1716045752848,
     "user": {
      "displayName": "Marc Bardeli Gámez",
      "userId": "16692650916302929304"
     },
     "user_tz": -120
    },
    "id": "zNHRu-ejDbB0",
    "outputId": "f2a9d59c-9dc1-4a95-f8a6-7966635ccda0"
   },
   "outputs": [
    {
     "data": {
      "image/png": "[encoded data removed]",
      "text/plain": [
       "<Figure size 1000x1000 with 2 Axes>"
      ]
     },
     "metadata": {},
     "output_type": "display_data"
    }
   ],
   "source": [
    "from sklearn.metrics import confusion_matrix, ConfusionMatrixDisplay\n",
    "cm = confusion_matrix(test_labels, test_predictions_rf, labels=rf_classifier.classes_)\n",
    "disp = ConfusionMatrixDisplay(confusion_matrix=cm, display_labels=rf_classifier.classes_)\n",
    "\n",
    "\n",
    "fig, ax = plt.subplots(figsize=(10, 10))\n",
    "disp.plot(ax=ax)\n",
    "plt.show()"
   ]
  },
  {
   "cell_type": "code",
   "execution_count": 17,
   "id": "E0QygIiGJ7is",
   "metadata": {
    "executionInfo": {
     "elapsed": 550,
     "status": "ok",
     "timestamp": 1716043822830,
     "user": {
      "displayName": "Marc Bardeli Gámez",
      "userId": "16692650916302929304"
     },
     "user_tz": -120
    },
    "id": "E0QygIiGJ7is"
   },
   "outputs": [],
   "source": [
    "\n",
    "#save_features_labels(train_features, train_labels, 'train_features_labels_hog_train.pkl')\n",
    "\n",
    "\n",
    "\n",
    "#save_features_labels(test_features, test_labels, 'test_features_labels_hog_test.pkl')\n",
    "\n"
   ]
  },
  {
   "cell_type": "markdown",
   "id": "7b8495ff-e350-459d-b78c-c88fdeb14b42",
   "metadata": {
    "id": "7b8495ff-e350-459d-b78c-c88fdeb14b42"
   },
   "source": [
    "### Aqui tenim implementat el CNN, es fa no només la classificació entre benignes i malignes si no que tambe mirem quin tipus de malignes son, aquest algorisme si es pot consedirar eficient per a aquest tipus de problemes"
   ]
  },
  {
   "cell_type": "markdown",
   "id": "b0cac11e-e951-482f-91e9-fc7f9c28779a",
   "metadata": {
    "id": "b0cac11e-e951-482f-91e9-fc7f9c28779a"
   },
   "source": [
    "#### Aquesta primera part carrega les imatges binaritzant-les per tal de detectar les celules cancerigenes i s'etiqueten"
   ]
  },
  {
   "cell_type": "code",
   "execution_count": 18,
   "id": "eCTrFqFAuPZf",
   "metadata": {
    "id": "eCTrFqFAuPZf"
   },
   "outputs": [],
   "source": [
    "import os\n",
    "import numpy as np\n",
    "import tensorflow\n",
    "from tensorflow import keras\n",
    "from keras.models import Sequential\n",
    "from keras.layers import Conv2D, MaxPooling2D, Flatten, Dense, Dropout\n",
    "from keras.utils import to_categorical\n",
    "from keras.preprocessing.image import img_to_array, load_img\n",
    "from sklearn.model_selection import train_test_split\n",
    "from sklearn.preprocessing import LabelEncoder\n",
    "\n",
    "def prepare_images(image_list, size=(64, 64)):\n",
    "    processed_images = []\n",
    "    for img in image_list:\n",
    "        img = img.resize(size)\n",
    "        img_array = np.array(img)\n",
    "        if img_array.shape == (size[0], size[1], 3):\n",
    "            processed_images.append(img_array / 255.0)\n",
    "    return np.array(processed_images)\n",
    "\n",
    "\n",
    "benignes = prepare_images(llegir_imatges(ruta_cel_benignes))\n",
    "proB = prepare_images(llegir_imatges(ruta_cel_malignes_ProB))\n",
    "preB = prepare_images(llegir_imatges(ruta_cel_malignes_PreB))\n",
    "early_preB = prepare_images(llegir_imatges(ruta_cel_malignes_early_PreB))\n",
    "\n",
    "images = np.concatenate([benignes, proB, preB, early_preB])\n",
    "\n",
    "labels = ['benign'] * len(benignes) + ['proB'] * len(proB) + ['preB'] * len(preB) + ['early_preB'] * len(early_preB)\n",
    "\n",
    "\n",
    "label_encoder = LabelEncoder()\n",
    "labels_encoded = label_encoder.fit_transform(labels)\n",
    "labels_categorical = to_categorical(labels_encoded)\n",
    "train_images, test_images, train_labels, test_labels = train_test_split(\n",
    "    images, labels_categorical, test_size=0.2, random_state=42)\n",
    "\n",
    "image_size = (64, 64)  # == prepare_images\n",
    "num_classes = labels_categorical.shape[1]"
   ]
  },
  {
   "cell_type": "markdown",
   "id": "75354379-9d45-4f4f-8f59-4af50bf10ed6",
   "metadata": {
    "id": "75354379-9d45-4f4f-8f59-4af50bf10ed6"
   },
   "source": [
    "#### Definim la xarxa neuronal, la compilem i evaluem els resultats obtinguts pel classificador, obtenim les epoques òptimer per realitzar la classificació"
   ]
  },
  {
   "cell_type": "code",
   "execution_count": 19,
   "id": "a0211301",
   "metadata": {
    "id": "a0211301",
    "outputId": "252932b4-291e-4a1e-a2d3-6f031271e3c8"
   },
   "outputs": [
    {
     "name": "stderr",
     "output_type": "stream",
     "text": [
      "C:\\Users\\Admin\\OneDrive - UAB\\Escritorio\\Python\\Instalación de python\\Lib\\site-packages\\keras\\src\\layers\\convolutional\\base_conv.py:99: UserWarning: Do not pass an `input_shape`/`input_dim` argument to a layer. When using Sequential models, prefer using an `Input(shape)` object as the first layer in the model instead.\n",
      "  super().__init__(\n"
     ]
    },
    {
     "data": {
      "text/html": [
       "<pre style=\"white-space:pre;overflow-x:auto;line-height:normal;font-family:Menlo,'DejaVu Sans Mono',consolas,'Courier New',monospace\"><span style=\"font-weight: bold\">Model: \"sequential\"</span>\n",
       "</pre>\n"
      ],
      "text/plain": [
       "\u001b[1mModel: \"sequential\"\u001b[0m\n"
      ]
     },
     "metadata": {},
     "output_type": "display_data"
    },
    {
     "data": {
      "text/html": [
       "<pre style=\"white-space:pre;overflow-x:auto;line-height:normal;font-family:Menlo,'DejaVu Sans Mono',consolas,'Courier New',monospace\">┏━━━━━━━━━━━━━━━━━━━━━━━━━━━━━━━━━━━━━━┳━━━━━━━━━━━━━━━━━━━━━━━━━━━━━┳━━━━━━━━━━━━━━━━━┓\n",
       "┃<span style=\"font-weight: bold\"> Layer (type)                         </span>┃<span style=\"font-weight: bold\"> Output Shape                </span>┃<span style=\"font-weight: bold\">         Param # </span>┃\n",
       "┡━━━━━━━━━━━━━━━━━━━━━━━━━━━━━━━━━━━━━━╇━━━━━━━━━━━━━━━━━━━━━━━━━━━━━╇━━━━━━━━━━━━━━━━━┩\n",
       "│ conv2d (<span style=\"color: #0087ff; text-decoration-color: #0087ff\">Conv2D</span>)                      │ (<span style=\"color: #00d7ff; text-decoration-color: #00d7ff\">None</span>, <span style=\"color: #00af00; text-decoration-color: #00af00\">62</span>, <span style=\"color: #00af00; text-decoration-color: #00af00\">62</span>, <span style=\"color: #00af00; text-decoration-color: #00af00\">32</span>)          │             <span style=\"color: #00af00; text-decoration-color: #00af00\">896</span> │\n",
       "├──────────────────────────────────────┼─────────────────────────────┼─────────────────┤\n",
       "│ max_pooling2d (<span style=\"color: #0087ff; text-decoration-color: #0087ff\">MaxPooling2D</span>)         │ (<span style=\"color: #00d7ff; text-decoration-color: #00d7ff\">None</span>, <span style=\"color: #00af00; text-decoration-color: #00af00\">31</span>, <span style=\"color: #00af00; text-decoration-color: #00af00\">31</span>, <span style=\"color: #00af00; text-decoration-color: #00af00\">32</span>)          │               <span style=\"color: #00af00; text-decoration-color: #00af00\">0</span> │\n",
       "├──────────────────────────────────────┼─────────────────────────────┼─────────────────┤\n",
       "│ conv2d_1 (<span style=\"color: #0087ff; text-decoration-color: #0087ff\">Conv2D</span>)                    │ (<span style=\"color: #00d7ff; text-decoration-color: #00d7ff\">None</span>, <span style=\"color: #00af00; text-decoration-color: #00af00\">29</span>, <span style=\"color: #00af00; text-decoration-color: #00af00\">29</span>, <span style=\"color: #00af00; text-decoration-color: #00af00\">64</span>)          │          <span style=\"color: #00af00; text-decoration-color: #00af00\">18,496</span> │\n",
       "├──────────────────────────────────────┼─────────────────────────────┼─────────────────┤\n",
       "│ max_pooling2d_1 (<span style=\"color: #0087ff; text-decoration-color: #0087ff\">MaxPooling2D</span>)       │ (<span style=\"color: #00d7ff; text-decoration-color: #00d7ff\">None</span>, <span style=\"color: #00af00; text-decoration-color: #00af00\">14</span>, <span style=\"color: #00af00; text-decoration-color: #00af00\">14</span>, <span style=\"color: #00af00; text-decoration-color: #00af00\">64</span>)          │               <span style=\"color: #00af00; text-decoration-color: #00af00\">0</span> │\n",
       "├──────────────────────────────────────┼─────────────────────────────┼─────────────────┤\n",
       "│ conv2d_2 (<span style=\"color: #0087ff; text-decoration-color: #0087ff\">Conv2D</span>)                    │ (<span style=\"color: #00d7ff; text-decoration-color: #00d7ff\">None</span>, <span style=\"color: #00af00; text-decoration-color: #00af00\">12</span>, <span style=\"color: #00af00; text-decoration-color: #00af00\">12</span>, <span style=\"color: #00af00; text-decoration-color: #00af00\">128</span>)         │          <span style=\"color: #00af00; text-decoration-color: #00af00\">73,856</span> │\n",
       "├──────────────────────────────────────┼─────────────────────────────┼─────────────────┤\n",
       "│ max_pooling2d_2 (<span style=\"color: #0087ff; text-decoration-color: #0087ff\">MaxPooling2D</span>)       │ (<span style=\"color: #00d7ff; text-decoration-color: #00d7ff\">None</span>, <span style=\"color: #00af00; text-decoration-color: #00af00\">6</span>, <span style=\"color: #00af00; text-decoration-color: #00af00\">6</span>, <span style=\"color: #00af00; text-decoration-color: #00af00\">128</span>)           │               <span style=\"color: #00af00; text-decoration-color: #00af00\">0</span> │\n",
       "├──────────────────────────────────────┼─────────────────────────────┼─────────────────┤\n",
       "│ flatten (<span style=\"color: #0087ff; text-decoration-color: #0087ff\">Flatten</span>)                    │ (<span style=\"color: #00d7ff; text-decoration-color: #00d7ff\">None</span>, <span style=\"color: #00af00; text-decoration-color: #00af00\">4608</span>)                │               <span style=\"color: #00af00; text-decoration-color: #00af00\">0</span> │\n",
       "├──────────────────────────────────────┼─────────────────────────────┼─────────────────┤\n",
       "│ dense (<span style=\"color: #0087ff; text-decoration-color: #0087ff\">Dense</span>)                        │ (<span style=\"color: #00d7ff; text-decoration-color: #00d7ff\">None</span>, <span style=\"color: #00af00; text-decoration-color: #00af00\">128</span>)                 │         <span style=\"color: #00af00; text-decoration-color: #00af00\">589,952</span> │\n",
       "├──────────────────────────────────────┼─────────────────────────────┼─────────────────┤\n",
       "│ dropout (<span style=\"color: #0087ff; text-decoration-color: #0087ff\">Dropout</span>)                    │ (<span style=\"color: #00d7ff; text-decoration-color: #00d7ff\">None</span>, <span style=\"color: #00af00; text-decoration-color: #00af00\">128</span>)                 │               <span style=\"color: #00af00; text-decoration-color: #00af00\">0</span> │\n",
       "├──────────────────────────────────────┼─────────────────────────────┼─────────────────┤\n",
       "│ dense_1 (<span style=\"color: #0087ff; text-decoration-color: #0087ff\">Dense</span>)                      │ (<span style=\"color: #00d7ff; text-decoration-color: #00d7ff\">None</span>, <span style=\"color: #00af00; text-decoration-color: #00af00\">4</span>)                   │             <span style=\"color: #00af00; text-decoration-color: #00af00\">516</span> │\n",
       "└──────────────────────────────────────┴─────────────────────────────┴─────────────────┘\n",
       "</pre>\n"
      ],
      "text/plain": [
       "┏━━━━━━━━━━━━━━━━━━━━━━━━━━━━━━━━━━━━━━┳━━━━━━━━━━━━━━━━━━━━━━━━━━━━━┳━━━━━━━━━━━━━━━━━┓\n",
       "┃\u001b[1m \u001b[0m\u001b[1mLayer (type)                        \u001b[0m\u001b[1m \u001b[0m┃\u001b[1m \u001b[0m\u001b[1mOutput Shape               \u001b[0m\u001b[1m \u001b[0m┃\u001b[1m \u001b[0m\u001b[1m        Param #\u001b[0m\u001b[1m \u001b[0m┃\n",
       "┡━━━━━━━━━━━━━━━━━━━━━━━━━━━━━━━━━━━━━━╇━━━━━━━━━━━━━━━━━━━━━━━━━━━━━╇━━━━━━━━━━━━━━━━━┩\n",
       "│ conv2d (\u001b[38;5;33mConv2D\u001b[0m)                      │ (\u001b[38;5;45mNone\u001b[0m, \u001b[38;5;34m62\u001b[0m, \u001b[38;5;34m62\u001b[0m, \u001b[38;5;34m32\u001b[0m)          │             \u001b[38;5;34m896\u001b[0m │\n",
       "├──────────────────────────────────────┼─────────────────────────────┼─────────────────┤\n",
       "│ max_pooling2d (\u001b[38;5;33mMaxPooling2D\u001b[0m)         │ (\u001b[38;5;45mNone\u001b[0m, \u001b[38;5;34m31\u001b[0m, \u001b[38;5;34m31\u001b[0m, \u001b[38;5;34m32\u001b[0m)          │               \u001b[38;5;34m0\u001b[0m │\n",
       "├──────────────────────────────────────┼─────────────────────────────┼─────────────────┤\n",
       "│ conv2d_1 (\u001b[38;5;33mConv2D\u001b[0m)                    │ (\u001b[38;5;45mNone\u001b[0m, \u001b[38;5;34m29\u001b[0m, \u001b[38;5;34m29\u001b[0m, \u001b[38;5;34m64\u001b[0m)          │          \u001b[38;5;34m18,496\u001b[0m │\n",
       "├──────────────────────────────────────┼─────────────────────────────┼─────────────────┤\n",
       "│ max_pooling2d_1 (\u001b[38;5;33mMaxPooling2D\u001b[0m)       │ (\u001b[38;5;45mNone\u001b[0m, \u001b[38;5;34m14\u001b[0m, \u001b[38;5;34m14\u001b[0m, \u001b[38;5;34m64\u001b[0m)          │               \u001b[38;5;34m0\u001b[0m │\n",
       "├──────────────────────────────────────┼─────────────────────────────┼─────────────────┤\n",
       "│ conv2d_2 (\u001b[38;5;33mConv2D\u001b[0m)                    │ (\u001b[38;5;45mNone\u001b[0m, \u001b[38;5;34m12\u001b[0m, \u001b[38;5;34m12\u001b[0m, \u001b[38;5;34m128\u001b[0m)         │          \u001b[38;5;34m73,856\u001b[0m │\n",
       "├──────────────────────────────────────┼─────────────────────────────┼─────────────────┤\n",
       "│ max_pooling2d_2 (\u001b[38;5;33mMaxPooling2D\u001b[0m)       │ (\u001b[38;5;45mNone\u001b[0m, \u001b[38;5;34m6\u001b[0m, \u001b[38;5;34m6\u001b[0m, \u001b[38;5;34m128\u001b[0m)           │               \u001b[38;5;34m0\u001b[0m │\n",
       "├──────────────────────────────────────┼─────────────────────────────┼─────────────────┤\n",
       "│ flatten (\u001b[38;5;33mFlatten\u001b[0m)                    │ (\u001b[38;5;45mNone\u001b[0m, \u001b[38;5;34m4608\u001b[0m)                │               \u001b[38;5;34m0\u001b[0m │\n",
       "├──────────────────────────────────────┼─────────────────────────────┼─────────────────┤\n",
       "│ dense (\u001b[38;5;33mDense\u001b[0m)                        │ (\u001b[38;5;45mNone\u001b[0m, \u001b[38;5;34m128\u001b[0m)                 │         \u001b[38;5;34m589,952\u001b[0m │\n",
       "├──────────────────────────────────────┼─────────────────────────────┼─────────────────┤\n",
       "│ dropout (\u001b[38;5;33mDropout\u001b[0m)                    │ (\u001b[38;5;45mNone\u001b[0m, \u001b[38;5;34m128\u001b[0m)                 │               \u001b[38;5;34m0\u001b[0m │\n",
       "├──────────────────────────────────────┼─────────────────────────────┼─────────────────┤\n",
       "│ dense_1 (\u001b[38;5;33mDense\u001b[0m)                      │ (\u001b[38;5;45mNone\u001b[0m, \u001b[38;5;34m4\u001b[0m)                   │             \u001b[38;5;34m516\u001b[0m │\n",
       "└──────────────────────────────────────┴─────────────────────────────┴─────────────────┘\n"
      ]
     },
     "metadata": {},
     "output_type": "display_data"
    },
    {
     "data": {
      "text/html": [
       "<pre style=\"white-space:pre;overflow-x:auto;line-height:normal;font-family:Menlo,'DejaVu Sans Mono',consolas,'Courier New',monospace\"><span style=\"font-weight: bold\"> Total params: </span><span style=\"color: #00af00; text-decoration-color: #00af00\">683,716</span> (2.61 MB)\n",
       "</pre>\n"
      ],
      "text/plain": [
       "\u001b[1m Total params: \u001b[0m\u001b[38;5;34m683,716\u001b[0m (2.61 MB)\n"
      ]
     },
     "metadata": {},
     "output_type": "display_data"
    },
    {
     "data": {
      "text/html": [
       "<pre style=\"white-space:pre;overflow-x:auto;line-height:normal;font-family:Menlo,'DejaVu Sans Mono',consolas,'Courier New',monospace\"><span style=\"font-weight: bold\"> Trainable params: </span><span style=\"color: #00af00; text-decoration-color: #00af00\">683,716</span> (2.61 MB)\n",
       "</pre>\n"
      ],
      "text/plain": [
       "\u001b[1m Trainable params: \u001b[0m\u001b[38;5;34m683,716\u001b[0m (2.61 MB)\n"
      ]
     },
     "metadata": {},
     "output_type": "display_data"
    },
    {
     "data": {
      "text/html": [
       "<pre style=\"white-space:pre;overflow-x:auto;line-height:normal;font-family:Menlo,'DejaVu Sans Mono',consolas,'Courier New',monospace\"><span style=\"font-weight: bold\"> Non-trainable params: </span><span style=\"color: #00af00; text-decoration-color: #00af00\">0</span> (0.00 B)\n",
       "</pre>\n"
      ],
      "text/plain": [
       "\u001b[1m Non-trainable params: \u001b[0m\u001b[38;5;34m0\u001b[0m (0.00 B)\n"
      ]
     },
     "metadata": {},
     "output_type": "display_data"
    },
    {
     "name": "stdout",
     "output_type": "stream",
     "text": [
      "Epoch 1/40\n",
      "\u001b[1m65/65\u001b[0m \u001b[32m━━━━━━━━━━━━━━━━━━━━\u001b[0m\u001b[37m\u001b[0m \u001b[1m8s\u001b[0m 57ms/step - accuracy: 0.3981 - loss: 1.2452 - val_accuracy: 0.8015 - val_loss: 0.5806\n",
      "Epoch 2/40\n",
      "\u001b[1m65/65\u001b[0m \u001b[32m━━━━━━━━━━━━━━━━━━━━\u001b[0m\u001b[37m\u001b[0m \u001b[1m3s\u001b[0m 45ms/step - accuracy: 0.7333 - loss: 0.6916 - val_accuracy: 0.7688 - val_loss: 0.6535\n",
      "Epoch 3/40\n",
      "\u001b[1m65/65\u001b[0m \u001b[32m━━━━━━━━━━━━━━━━━━━━\u001b[0m\u001b[37m\u001b[0m \u001b[1m3s\u001b[0m 46ms/step - accuracy: 0.7463 - loss: 0.6357 - val_accuracy: 0.8324 - val_loss: 0.4293\n",
      "Epoch 4/40\n",
      "\u001b[1m65/65\u001b[0m \u001b[32m━━━━━━━━━━━━━━━━━━━━\u001b[0m\u001b[37m\u001b[0m \u001b[1m3s\u001b[0m 42ms/step - accuracy: 0.7692 - loss: 0.5897 - val_accuracy: 0.8478 - val_loss: 0.4527\n",
      "Epoch 5/40\n",
      "\u001b[1m65/65\u001b[0m \u001b[32m━━━━━━━━━━━━━━━━━━━━\u001b[0m\u001b[37m\u001b[0m \u001b[1m4s\u001b[0m 54ms/step - accuracy: 0.7911 - loss: 0.5190 - val_accuracy: 0.8516 - val_loss: 0.3853\n",
      "Epoch 6/40\n",
      "\u001b[1m65/65\u001b[0m \u001b[32m━━━━━━━━━━━━━━━━━━━━\u001b[0m\u001b[37m\u001b[0m \u001b[1m4s\u001b[0m 61ms/step - accuracy: 0.7946 - loss: 0.5151 - val_accuracy: 0.8651 - val_loss: 0.3767\n",
      "Epoch 7/40\n",
      "\u001b[1m65/65\u001b[0m \u001b[32m━━━━━━━━━━━━━━━━━━━━\u001b[0m\u001b[37m\u001b[0m \u001b[1m4s\u001b[0m 59ms/step - accuracy: 0.8288 - loss: 0.4348 - val_accuracy: 0.8805 - val_loss: 0.3194\n",
      "Epoch 8/40\n",
      "\u001b[1m65/65\u001b[0m \u001b[32m━━━━━━━━━━━━━━━━━━━━\u001b[0m\u001b[37m\u001b[0m \u001b[1m4s\u001b[0m 62ms/step - accuracy: 0.8606 - loss: 0.3683 - val_accuracy: 0.8940 - val_loss: 0.3021\n",
      "Epoch 9/40\n",
      "\u001b[1m65/65\u001b[0m \u001b[32m━━━━━━━━━━━━━━━━━━━━\u001b[0m\u001b[37m\u001b[0m \u001b[1m4s\u001b[0m 56ms/step - accuracy: 0.8610 - loss: 0.3683 - val_accuracy: 0.8786 - val_loss: 0.3264\n",
      "Epoch 10/40\n",
      "\u001b[1m65/65\u001b[0m \u001b[32m━━━━━━━━━━━━━━━━━━━━\u001b[0m\u001b[37m\u001b[0m \u001b[1m4s\u001b[0m 56ms/step - accuracy: 0.8709 - loss: 0.3370 - val_accuracy: 0.8921 - val_loss: 0.2890\n",
      "Epoch 11/40\n",
      "\u001b[1m65/65\u001b[0m \u001b[32m━━━━━━━━━━━━━━━━━━━━\u001b[0m\u001b[37m\u001b[0m \u001b[1m4s\u001b[0m 57ms/step - accuracy: 0.8621 - loss: 0.3468 - val_accuracy: 0.8940 - val_loss: 0.2594\n",
      "Epoch 12/40\n",
      "\u001b[1m65/65\u001b[0m \u001b[32m━━━━━━━━━━━━━━━━━━━━\u001b[0m\u001b[37m\u001b[0m \u001b[1m4s\u001b[0m 58ms/step - accuracy: 0.8894 - loss: 0.2798 - val_accuracy: 0.8979 - val_loss: 0.2749\n",
      "Epoch 13/40\n",
      "\u001b[1m65/65\u001b[0m \u001b[32m━━━━━━━━━━━━━━━━━━━━\u001b[0m\u001b[37m\u001b[0m \u001b[1m4s\u001b[0m 65ms/step - accuracy: 0.8788 - loss: 0.3083 - val_accuracy: 0.9094 - val_loss: 0.2456\n",
      "Epoch 14/40\n",
      "\u001b[1m65/65\u001b[0m \u001b[32m━━━━━━━━━━━━━━━━━━━━\u001b[0m\u001b[37m\u001b[0m \u001b[1m4s\u001b[0m 65ms/step - accuracy: 0.8809 - loss: 0.2938 - val_accuracy: 0.8805 - val_loss: 0.3261\n",
      "Epoch 15/40\n",
      "\u001b[1m65/65\u001b[0m \u001b[32m━━━━━━━━━━━━━━━━━━━━\u001b[0m\u001b[37m\u001b[0m \u001b[1m4s\u001b[0m 57ms/step - accuracy: 0.8673 - loss: 0.3425 - val_accuracy: 0.9191 - val_loss: 0.2452\n",
      "Epoch 16/40\n",
      "\u001b[1m65/65\u001b[0m \u001b[32m━━━━━━━━━━━━━━━━━━━━\u001b[0m\u001b[37m\u001b[0m \u001b[1m4s\u001b[0m 60ms/step - accuracy: 0.8963 - loss: 0.2808 - val_accuracy: 0.9210 - val_loss: 0.2353\n",
      "Epoch 17/40\n",
      "\u001b[1m65/65\u001b[0m \u001b[32m━━━━━━━━━━━━━━━━━━━━\u001b[0m\u001b[37m\u001b[0m \u001b[1m4s\u001b[0m 56ms/step - accuracy: 0.9235 - loss: 0.2103 - val_accuracy: 0.8728 - val_loss: 0.3391\n",
      "Epoch 18/40\n",
      "\u001b[1m65/65\u001b[0m \u001b[32m━━━━━━━━━━━━━━━━━━━━\u001b[0m\u001b[37m\u001b[0m \u001b[1m4s\u001b[0m 55ms/step - accuracy: 0.9004 - loss: 0.2430 - val_accuracy: 0.9210 - val_loss: 0.2261\n",
      "Epoch 19/40\n",
      "\u001b[1m65/65\u001b[0m \u001b[32m━━━━━━━━━━━━━━━━━━━━\u001b[0m\u001b[37m\u001b[0m \u001b[1m4s\u001b[0m 57ms/step - accuracy: 0.9284 - loss: 0.2064 - val_accuracy: 0.9191 - val_loss: 0.2188\n",
      "Epoch 20/40\n",
      "\u001b[1m65/65\u001b[0m \u001b[32m━━━━━━━━━━━━━━━━━━━━\u001b[0m\u001b[37m\u001b[0m \u001b[1m4s\u001b[0m 55ms/step - accuracy: 0.9262 - loss: 0.1821 - val_accuracy: 0.9210 - val_loss: 0.2596\n",
      "Epoch 21/40\n",
      "\u001b[1m65/65\u001b[0m \u001b[32m━━━━━━━━━━━━━━━━━━━━\u001b[0m\u001b[37m\u001b[0m \u001b[1m4s\u001b[0m 57ms/step - accuracy: 0.9342 - loss: 0.1814 - val_accuracy: 0.9249 - val_loss: 0.2970\n",
      "Epoch 22/40\n",
      "\u001b[1m65/65\u001b[0m \u001b[32m━━━━━━━━━━━━━━━━━━━━\u001b[0m\u001b[37m\u001b[0m \u001b[1m4s\u001b[0m 58ms/step - accuracy: 0.9409 - loss: 0.1592 - val_accuracy: 0.9268 - val_loss: 0.2321\n",
      "Epoch 23/40\n",
      "\u001b[1m65/65\u001b[0m \u001b[32m━━━━━━━━━━━━━━━━━━━━\u001b[0m\u001b[37m\u001b[0m \u001b[1m4s\u001b[0m 55ms/step - accuracy: 0.9415 - loss: 0.1583 - val_accuracy: 0.9094 - val_loss: 0.2863\n",
      "Epoch 24/40\n",
      "\u001b[1m65/65\u001b[0m \u001b[32m━━━━━━━━━━━━━━━━━━━━\u001b[0m\u001b[37m\u001b[0m \u001b[1m4s\u001b[0m 56ms/step - accuracy: 0.9465 - loss: 0.1516 - val_accuracy: 0.9094 - val_loss: 0.3107\n",
      "Epoch 25/40\n",
      "\u001b[1m65/65\u001b[0m \u001b[32m━━━━━━━━━━━━━━━━━━━━\u001b[0m\u001b[37m\u001b[0m \u001b[1m4s\u001b[0m 58ms/step - accuracy: 0.9341 - loss: 0.1704 - val_accuracy: 0.9364 - val_loss: 0.2230\n",
      "Epoch 26/40\n",
      "\u001b[1m65/65\u001b[0m \u001b[32m━━━━━━━━━━━━━━━━━━━━\u001b[0m\u001b[37m\u001b[0m \u001b[1m4s\u001b[0m 56ms/step - accuracy: 0.9344 - loss: 0.1815 - val_accuracy: 0.9017 - val_loss: 0.3012\n",
      "Epoch 27/40\n",
      "\u001b[1m65/65\u001b[0m \u001b[32m━━━━━━━━━━━━━━━━━━━━\u001b[0m\u001b[37m\u001b[0m \u001b[1m4s\u001b[0m 57ms/step - accuracy: 0.9322 - loss: 0.1980 - val_accuracy: 0.9075 - val_loss: 0.3052\n",
      "Epoch 28/40\n",
      "\u001b[1m65/65\u001b[0m \u001b[32m━━━━━━━━━━━━━━━━━━━━\u001b[0m\u001b[37m\u001b[0m \u001b[1m4s\u001b[0m 55ms/step - accuracy: 0.9478 - loss: 0.1412 - val_accuracy: 0.9210 - val_loss: 0.3131\n",
      "Epoch 29/40\n",
      "\u001b[1m65/65\u001b[0m \u001b[32m━━━━━━━━━━━━━━━━━━━━\u001b[0m\u001b[37m\u001b[0m \u001b[1m4s\u001b[0m 56ms/step - accuracy: 0.9404 - loss: 0.1717 - val_accuracy: 0.9383 - val_loss: 0.2280\n",
      "Epoch 30/40\n",
      "\u001b[1m65/65\u001b[0m \u001b[32m━━━━━━━━━━━━━━━━━━━━\u001b[0m\u001b[37m\u001b[0m \u001b[1m4s\u001b[0m 57ms/step - accuracy: 0.9632 - loss: 0.0876 - val_accuracy: 0.9249 - val_loss: 0.2756\n",
      "Epoch 31/40\n",
      "\u001b[1m65/65\u001b[0m \u001b[32m━━━━━━━━━━━━━━━━━━━━\u001b[0m\u001b[37m\u001b[0m \u001b[1m4s\u001b[0m 57ms/step - accuracy: 0.9440 - loss: 0.1411 - val_accuracy: 0.9152 - val_loss: 0.2527\n",
      "Epoch 32/40\n",
      "\u001b[1m65/65\u001b[0m \u001b[32m━━━━━━━━━━━━━━━━━━━━\u001b[0m\u001b[37m\u001b[0m \u001b[1m4s\u001b[0m 64ms/step - accuracy: 0.9488 - loss: 0.1258 - val_accuracy: 0.9306 - val_loss: 0.2558\n",
      "Epoch 33/40\n",
      "\u001b[1m65/65\u001b[0m \u001b[32m━━━━━━━━━━━━━━━━━━━━\u001b[0m\u001b[37m\u001b[0m \u001b[1m4s\u001b[0m 67ms/step - accuracy: 0.9445 - loss: 0.1783 - val_accuracy: 0.9229 - val_loss: 0.2642\n",
      "Epoch 34/40\n",
      "\u001b[1m65/65\u001b[0m \u001b[32m━━━━━━━━━━━━━━━━━━━━\u001b[0m\u001b[37m\u001b[0m \u001b[1m4s\u001b[0m 60ms/step - accuracy: 0.9624 - loss: 0.1057 - val_accuracy: 0.9422 - val_loss: 0.2094\n",
      "Epoch 35/40\n",
      "\u001b[1m65/65\u001b[0m \u001b[32m━━━━━━━━━━━━━━━━━━━━\u001b[0m\u001b[37m\u001b[0m \u001b[1m4s\u001b[0m 60ms/step - accuracy: 0.9793 - loss: 0.0634 - val_accuracy: 0.9441 - val_loss: 0.2168\n",
      "Epoch 36/40\n",
      "\u001b[1m65/65\u001b[0m \u001b[32m━━━━━━━━━━━━━━━━━━━━\u001b[0m\u001b[37m\u001b[0m \u001b[1m4s\u001b[0m 59ms/step - accuracy: 0.9829 - loss: 0.0573 - val_accuracy: 0.9364 - val_loss: 0.2526\n",
      "Epoch 37/40\n",
      "\u001b[1m65/65\u001b[0m \u001b[32m━━━━━━━━━━━━━━━━━━━━\u001b[0m\u001b[37m\u001b[0m \u001b[1m4s\u001b[0m 58ms/step - accuracy: 0.9765 - loss: 0.0646 - val_accuracy: 0.9383 - val_loss: 0.2119\n",
      "Epoch 38/40\n",
      "\u001b[1m65/65\u001b[0m \u001b[32m━━━━━━━━━━━━━━━━━━━━\u001b[0m\u001b[37m\u001b[0m \u001b[1m4s\u001b[0m 58ms/step - accuracy: 0.9610 - loss: 0.1120 - val_accuracy: 0.9249 - val_loss: 0.2518\n",
      "Epoch 39/40\n",
      "\u001b[1m65/65\u001b[0m \u001b[32m━━━━━━━━━━━━━━━━━━━━\u001b[0m\u001b[37m\u001b[0m \u001b[1m5s\u001b[0m 70ms/step - accuracy: 0.9756 - loss: 0.0717 - val_accuracy: 0.9287 - val_loss: 0.2892\n",
      "Epoch 40/40\n",
      "\u001b[1m65/65\u001b[0m \u001b[32m━━━━━━━━━━━━━━━━━━━━\u001b[0m\u001b[37m\u001b[0m \u001b[1m4s\u001b[0m 57ms/step - accuracy: 0.9820 - loss: 0.0540 - val_accuracy: 0.9345 - val_loss: 0.2835\n",
      "\u001b[1m21/21\u001b[0m \u001b[32m━━━━━━━━━━━━━━━━━━━━\u001b[0m\u001b[37m\u001b[0m \u001b[1m0s\u001b[0m 18ms/step - accuracy: 0.9025 - loss: 0.3454\n"
     ]
    },
    {
     "data": {
      "image/png": "[encoded data removed]",
      "text/plain": [
       "<Figure size 640x480 with 1 Axes>"
      ]
     },
     "metadata": {},
     "output_type": "display_data"
    }
   ],
   "source": [
    "model = Sequential([\n",
    "    Conv2D(32, (3, 3), activation='relu', input_shape=(image_size[0], image_size[1], 3)),\n",
    "    MaxPooling2D((2, 2)),\n",
    "    Conv2D(64, (3, 3), activation='relu'),\n",
    "    MaxPooling2D((2, 2)),\n",
    "    Conv2D(128, (3, 3), activation='relu'),\n",
    "    MaxPooling2D((2, 2)),\n",
    "    Flatten(),\n",
    "    Dense(128, activation='relu'),\n",
    "    Dropout(0.5),\n",
    "    Dense(num_classes, activation='softmax')\n",
    "])\n",
    "\n",
    "model.compile(optimizer='adam', loss='categorical_crossentropy', metrics=['accuracy'])\n",
    "model.summary()\n",
    "epoca = 40\n",
    "hist = model.fit(train_images, train_labels, epochs=epoca, batch_size=32, validation_split=0.2)\n",
    "test_loss, test_accuracy = model.evaluate(test_images, test_labels)\n",
    "\n",
    "train_loss = hist.history['loss']\n",
    "val_loss = hist.history['val_loss']\n",
    "\n",
    "# Crear un rango de épocas\n",
    "epochs_range = range(1, epoca + 1)\n",
    "\n",
    "# Graficar la pérdida de entrenamiento y validación\n",
    "plt.plot(epochs_range, train_loss, 'b', label='Training loss')\n",
    "plt.plot(epochs_range, val_loss, 'r', label='Validation loss')\n",
    "plt.title('Training and Validation Loss')\n",
    "plt.xlabel('Epochs')\n",
    "plt.ylabel('Loss')\n",
    "plt.legend()\n",
    "plt.show()"
   ]
  },
  {
   "cell_type": "markdown",
   "id": "9bf38733-aad0-4dfd-976c-6af8771cc622",
   "metadata": {
    "id": "9bf38733-aad0-4dfd-976c-6af8771cc622"
   },
   "source": [
    "#### Veient que el KNN es el que millors resultats aporta a la classificació multiclasse, ara miraren d'aplicar un data augmentation pertal d'intentar millorar encara més el classificador"
   ]
  },
  {
   "cell_type": "code",
   "execution_count": 40,
   "id": "d8097180-a4a9-4206-8024-2ac035527d7a",
   "metadata": {
    "colab": {
     "base_uri": "https://localhost:8080/"
    },
    "executionInfo": {
     "elapsed": 34336,
     "status": "ok",
     "timestamp": 1716046032418,
     "user": {
      "displayName": "Marc Bardeli Gámez",
      "userId": "16692650916302929304"
     },
     "user_tz": -120
    },
    "id": "d8097180-a4a9-4206-8024-2ac035527d7a",
    "outputId": "1dae2930-6346-4904-e3d1-387955861dc7"
   },
   "outputs": [
    {
     "name": "stdout",
     "output_type": "stream",
     "text": [
      "aawedwd\n",
      "Tamaño del dataset final(porción): 855\n"
     ]
    }
   ],
   "source": [
    "import numpy as np\n",
    "import tensorflow as tf\n",
    "from functools import reduce\n",
    "\n",
    "\n",
    "print('aawedwd')\n",
    "\n",
    "labels_benign = np.full(len(benignes), 'benign')\n",
    "labels_proB = np.full(len(proB), 'proB')\n",
    "labels_preB = np.full(len(preB), 'preB')\n",
    "labels_early_preB = np.full(len(early_preB), 'early_preB')\n",
    "\n",
    "\n",
    "images = np.concatenate((benignes, proB, preB, early_preB), axis=0)\n",
    "labels = np.concatenate((labels_benign, labels_proB, labels_preB, labels_early_preB))\n",
    "\n",
    "\n",
    "dataset = tf.data.Dataset.from_tensor_slices((images, labels))\n",
    "\n",
    "\n",
    "def augment(image, label):\n",
    "    image = tf.image.random_flip_left_right(image)\n",
    "    image = tf.image.random_flip_up_down(image)\n",
    "    image = tf.image.rot90(image, k=3)\n",
    "    return image, label\n",
    "\n",
    "\n",
    "repeats = 15  # Número de veces que se duplicará el dataset\n",
    "augmented_datasets = [dataset.map(augment, num_parallel_calls=tf.data.AUTOTUNE) for _ in range(repeats)]\n",
    "\n",
    "augmented_dataset = reduce(lambda d1, d2: d1.concatenate(d2), augmented_datasets)\n",
    "\n",
    "\n",
    "batch_size = 32\n",
    "augmented_dataset = augmented_dataset.shuffle(buffer_size=1000).batch(batch_size).prefetch(buffer_size=tf.data.AUTOTUNE)\n",
    "\n",
    "\n",
    "dataset_size = sum(1 for _ in augmented_dataset)\n",
    "print(f'Tamaño del dataset final(porción): {dataset_size}')\n"
   ]
  },
  {
   "cell_type": "code",
   "execution_count": 49,
   "id": "253bafbb-b943-4b82-a0db-601d34402dde",
   "metadata": {
    "colab": {
     "base_uri": "https://localhost:8080/"
    },
    "executionInfo": {
     "elapsed": 1303740,
     "status": "ok",
     "timestamp": 1716047365364,
     "user": {
      "displayName": "Marc Bardeli Gámez",
      "userId": "16692650916302929304"
     },
     "user_tz": -120
    },
    "id": "253bafbb-b943-4b82-a0db-601d34402dde",
    "outputId": "d37accf7-309b-4160-c5a3-0885bcefea5c"
   },
   "outputs": [
    {
     "name": "stderr",
     "output_type": "stream",
     "text": [
      "C:\\Users\\Admin\\OneDrive - UAB\\Escritorio\\Python\\Instalación de python\\Lib\\site-packages\\keras\\src\\layers\\convolutional\\base_conv.py:99: UserWarning: Do not pass an `input_shape`/`input_dim` argument to a layer. When using Sequential models, prefer using an `Input(shape)` object as the first layer in the model instead.\n",
      "  super().__init__(\n"
     ]
    },
    {
     "name": "stdout",
     "output_type": "stream",
     "text": [
      "Epoch 1/50\n",
      "\u001b[1m342/342\u001b[0m \u001b[32m━━━━━━━━━━━━━━━━━━━━\u001b[0m\u001b[37m\u001b[0m \u001b[1m14s\u001b[0m 20ms/step - accuracy: 0.4431 - loss: 1.2651 - val_accuracy: 0.4485 - val_loss: 1.2501\n",
      "Epoch 2/50\n",
      "\u001b[1m342/342\u001b[0m \u001b[32m━━━━━━━━━━━━━━━━━━━━\u001b[0m\u001b[37m\u001b[0m \u001b[1m7s\u001b[0m 21ms/step - accuracy: 0.4644 - loss: 1.2347 - val_accuracy: 0.5422 - val_loss: 1.1240\n",
      "Epoch 3/50\n",
      "\u001b[1m342/342\u001b[0m \u001b[32m━━━━━━━━━━━━━━━━━━━━\u001b[0m\u001b[37m\u001b[0m \u001b[1m8s\u001b[0m 22ms/step - accuracy: 0.6107 - loss: 0.9871 - val_accuracy: 0.6584 - val_loss: 0.8752\n",
      "Epoch 4/50\n",
      "\u001b[1m342/342\u001b[0m \u001b[32m━━━━━━━━━━━━━━━━━━━━\u001b[0m\u001b[37m\u001b[0m \u001b[1m8s\u001b[0m 23ms/step - accuracy: 0.7383 - loss: 0.6959 - val_accuracy: 0.7531 - val_loss: 0.7233\n",
      "Epoch 5/50\n",
      "\u001b[1m342/342\u001b[0m \u001b[32m━━━━━━━━━━━━━━━━━━━━\u001b[0m\u001b[37m\u001b[0m \u001b[1m8s\u001b[0m 22ms/step - accuracy: 0.8238 - loss: 0.4920 - val_accuracy: 0.8004 - val_loss: 0.6447\n",
      "Epoch 6/50\n",
      "\u001b[1m342/342\u001b[0m \u001b[32m━━━━━━━━━━━━━━━━━━━━\u001b[0m\u001b[37m\u001b[0m \u001b[1m9s\u001b[0m 25ms/step - accuracy: 0.8795 - loss: 0.3478 - val_accuracy: 0.8509 - val_loss: 0.6103\n",
      "Epoch 7/50\n",
      "\u001b[1m342/342\u001b[0m \u001b[32m━━━━━━━━━━━━━━━━━━━━\u001b[0m\u001b[37m\u001b[0m \u001b[1m8s\u001b[0m 23ms/step - accuracy: 0.9170 - loss: 0.2523 - val_accuracy: 0.8743 - val_loss: 0.6065\n",
      "Epoch 8/50\n",
      "\u001b[1m342/342\u001b[0m \u001b[32m━━━━━━━━━━━━━━━━━━━━\u001b[0m\u001b[37m\u001b[0m \u001b[1m8s\u001b[0m 24ms/step - accuracy: 0.9387 - loss: 0.1976 - val_accuracy: 0.8916 - val_loss: 0.5881\n",
      "Epoch 9/50\n",
      "\u001b[1m342/342\u001b[0m \u001b[32m━━━━━━━━━━━━━━━━━━━━\u001b[0m\u001b[37m\u001b[0m \u001b[1m9s\u001b[0m 27ms/step - accuracy: 0.9532 - loss: 0.1474 - val_accuracy: 0.9055 - val_loss: 0.5575\n",
      "Epoch 10/50\n",
      "\u001b[1m342/342\u001b[0m \u001b[32m━━━━━━━━━━━━━━━━━━━━\u001b[0m\u001b[37m\u001b[0m \u001b[1m8s\u001b[0m 23ms/step - accuracy: 0.9580 - loss: 0.1378 - val_accuracy: 0.9201 - val_loss: 0.5666\n",
      "Epoch 11/50\n",
      "\u001b[1m342/342\u001b[0m \u001b[32m━━━━━━━━━━━━━━━━━━━━\u001b[0m\u001b[37m\u001b[0m \u001b[1m9s\u001b[0m 25ms/step - accuracy: 0.9692 - loss: 0.1040 - val_accuracy: 0.9285 - val_loss: 0.5710\n",
      "Epoch 12/50\n",
      "\u001b[1m342/342\u001b[0m \u001b[32m━━━━━━━━━━━━━━━━━━━━\u001b[0m\u001b[37m\u001b[0m \u001b[1m8s\u001b[0m 23ms/step - accuracy: 0.9739 - loss: 0.0880 - val_accuracy: 0.9262 - val_loss: 0.5797\n",
      "Epoch 13/50\n",
      "\u001b[1m342/342\u001b[0m \u001b[32m━━━━━━━━━━━━━━━━━━━━\u001b[0m\u001b[37m\u001b[0m \u001b[1m8s\u001b[0m 24ms/step - accuracy: 0.9723 - loss: 0.0838 - val_accuracy: 0.9296 - val_loss: 0.6402\n",
      "Epoch 14/50\n",
      "\u001b[1m342/342\u001b[0m \u001b[32m━━━━━━━━━━━━━━━━━━━━\u001b[0m\u001b[37m\u001b[0m \u001b[1m8s\u001b[0m 22ms/step - accuracy: 0.9777 - loss: 0.0726 - val_accuracy: 0.9236 - val_loss: 0.6097\n",
      "Epoch 15/50\n",
      "\u001b[1m342/342\u001b[0m \u001b[32m━━━━━━━━━━━━━━━━━━━━\u001b[0m\u001b[37m\u001b[0m \u001b[1m9s\u001b[0m 25ms/step - accuracy: 0.9765 - loss: 0.0735 - val_accuracy: 0.9295 - val_loss: 0.6744\n",
      "Epoch 16/50\n",
      "\u001b[1m342/342\u001b[0m \u001b[32m━━━━━━━━━━━━━━━━━━━━\u001b[0m\u001b[37m\u001b[0m \u001b[1m11s\u001b[0m 31ms/step - accuracy: 0.9767 - loss: 0.0692 - val_accuracy: 0.9455 - val_loss: 0.5896\n",
      "Epoch 17/50\n",
      "\u001b[1m342/342\u001b[0m \u001b[32m━━━━━━━━━━━━━━━━━━━━\u001b[0m\u001b[37m\u001b[0m \u001b[1m21s\u001b[0m 31ms/step - accuracy: 0.9868 - loss: 0.0399 - val_accuracy: 0.9408 - val_loss: 0.6734\n",
      "Epoch 18/50\n",
      "\u001b[1m342/342\u001b[0m \u001b[32m━━━━━━━━━━━━━━━━━━━━\u001b[0m\u001b[37m\u001b[0m \u001b[1m11s\u001b[0m 32ms/step - accuracy: 0.9808 - loss: 0.0565 - val_accuracy: 0.9280 - val_loss: 0.6978\n",
      "Epoch 19/50\n",
      "\u001b[1m342/342\u001b[0m \u001b[32m━━━━━━━━━━━━━━━━━━━━\u001b[0m\u001b[37m\u001b[0m \u001b[1m11s\u001b[0m 31ms/step - accuracy: 0.9710 - loss: 0.0813 - val_accuracy: 0.9278 - val_loss: 0.6549\n",
      "Epoch 20/50\n",
      "\u001b[1m342/342\u001b[0m \u001b[32m━━━━━━━━━━━━━━━━━━━━\u001b[0m\u001b[37m\u001b[0m \u001b[1m11s\u001b[0m 31ms/step - accuracy: 0.9796 - loss: 0.0586 - val_accuracy: 0.9521 - val_loss: 0.6341\n",
      "Epoch 21/50\n",
      "\u001b[1m342/342\u001b[0m \u001b[32m━━━━━━━━━━━━━━━━━━━━\u001b[0m\u001b[37m\u001b[0m \u001b[1m11s\u001b[0m 32ms/step - accuracy: 0.9945 - loss: 0.0178 - val_accuracy: 0.9609 - val_loss: 0.6293\n",
      "Epoch 22/50\n",
      "\u001b[1m342/342\u001b[0m \u001b[32m━━━━━━━━━━━━━━━━━━━━\u001b[0m\u001b[37m\u001b[0m \u001b[1m11s\u001b[0m 31ms/step - accuracy: 0.9958 - loss: 0.0152 - val_accuracy: 0.9525 - val_loss: 0.7023\n",
      "Epoch 23/50\n",
      "\u001b[1m342/342\u001b[0m \u001b[32m━━━━━━━━━━━━━━━━━━━━\u001b[0m\u001b[37m\u001b[0m \u001b[1m11s\u001b[0m 31ms/step - accuracy: 0.9820 - loss: 0.0527 - val_accuracy: 0.8942 - val_loss: 0.7137\n",
      "Epoch 24/50\n",
      "\u001b[1m342/342\u001b[0m \u001b[32m━━━━━━━━━━━━━━━━━━━━\u001b[0m\u001b[37m\u001b[0m \u001b[1m11s\u001b[0m 33ms/step - accuracy: 0.9719 - loss: 0.0836 - val_accuracy: 0.9569 - val_loss: 0.5942\n",
      "Epoch 25/50\n",
      "\u001b[1m342/342\u001b[0m \u001b[32m━━━━━━━━━━━━━━━━━━━━\u001b[0m\u001b[37m\u001b[0m \u001b[1m11s\u001b[0m 33ms/step - accuracy: 0.9938 - loss: 0.0214 - val_accuracy: 0.9605 - val_loss: 0.6249\n",
      "Epoch 26/50\n",
      "\u001b[1m342/342\u001b[0m \u001b[32m━━━━━━━━━━━━━━━━━━━━\u001b[0m\u001b[37m\u001b[0m \u001b[1m11s\u001b[0m 32ms/step - accuracy: 0.9993 - loss: 0.0053 - val_accuracy: 0.9633 - val_loss: 0.6529\n",
      "Epoch 27/50\n",
      "\u001b[1m342/342\u001b[0m \u001b[32m━━━━━━━━━━━━━━━━━━━━\u001b[0m\u001b[37m\u001b[0m \u001b[1m11s\u001b[0m 32ms/step - accuracy: 0.9999 - loss: 9.4862e-04 - val_accuracy: 0.9633 - val_loss: 0.6779\n",
      "Epoch 28/50\n",
      "\u001b[1m342/342\u001b[0m \u001b[32m━━━━━━━━━━━━━━━━━━━━\u001b[0m\u001b[37m\u001b[0m \u001b[1m11s\u001b[0m 32ms/step - accuracy: 1.0000 - loss: 3.6042e-04 - val_accuracy: 0.9640 - val_loss: 0.6823\n",
      "Epoch 29/50\n",
      "\u001b[1m342/342\u001b[0m \u001b[32m━━━━━━━━━━━━━━━━━━━━\u001b[0m\u001b[37m\u001b[0m \u001b[1m11s\u001b[0m 31ms/step - accuracy: 1.0000 - loss: 2.3709e-04 - val_accuracy: 0.9640 - val_loss: 0.6912\n",
      "Epoch 30/50\n",
      "\u001b[1m342/342\u001b[0m \u001b[32m━━━━━━━━━━━━━━━━━━━━\u001b[0m\u001b[37m\u001b[0m \u001b[1m11s\u001b[0m 31ms/step - accuracy: 1.0000 - loss: 1.9363e-04 - val_accuracy: 0.9640 - val_loss: 0.7007\n",
      "Epoch 31/50\n",
      "\u001b[1m342/342\u001b[0m \u001b[32m━━━━━━━━━━━━━━━━━━━━\u001b[0m\u001b[37m\u001b[0m \u001b[1m12s\u001b[0m 33ms/step - accuracy: 1.0000 - loss: 1.4891e-04 - val_accuracy: 0.9640 - val_loss: 0.7098\n",
      "Epoch 32/50\n",
      "\u001b[1m342/342\u001b[0m \u001b[32m━━━━━━━━━━━━━━━━━━━━\u001b[0m\u001b[37m\u001b[0m \u001b[1m15s\u001b[0m 42ms/step - accuracy: 1.0000 - loss: 1.2616e-04 - val_accuracy: 0.9640 - val_loss: 0.7176\n",
      "Epoch 33/50\n",
      "\u001b[1m342/342\u001b[0m \u001b[32m━━━━━━━━━━━━━━━━━━━━\u001b[0m\u001b[37m\u001b[0m \u001b[1m12s\u001b[0m 34ms/step - accuracy: 1.0000 - loss: 1.0494e-04 - val_accuracy: 0.9642 - val_loss: 0.7260\n",
      "Epoch 34/50\n",
      "\u001b[1m342/342\u001b[0m \u001b[32m━━━━━━━━━━━━━━━━━━━━\u001b[0m\u001b[37m\u001b[0m \u001b[1m11s\u001b[0m 33ms/step - accuracy: 1.0000 - loss: 9.0742e-05 - val_accuracy: 0.9642 - val_loss: 0.7334\n",
      "Epoch 35/50\n",
      "\u001b[1m342/342\u001b[0m \u001b[32m━━━━━━━━━━━━━━━━━━━━\u001b[0m\u001b[37m\u001b[0m \u001b[1m12s\u001b[0m 33ms/step - accuracy: 1.0000 - loss: 7.7544e-05 - val_accuracy: 0.9642 - val_loss: 0.7419\n",
      "Epoch 36/50\n",
      "\u001b[1m342/342\u001b[0m \u001b[32m━━━━━━━━━━━━━━━━━━━━\u001b[0m\u001b[37m\u001b[0m \u001b[1m13s\u001b[0m 37ms/step - accuracy: 1.0000 - loss: 6.7644e-05 - val_accuracy: 0.9642 - val_loss: 0.7498\n",
      "Epoch 37/50\n",
      "\u001b[1m342/342\u001b[0m \u001b[32m━━━━━━━━━━━━━━━━━━━━\u001b[0m\u001b[37m\u001b[0m \u001b[1m20s\u001b[0m 34ms/step - accuracy: 1.0000 - loss: 5.6213e-05 - val_accuracy: 0.9642 - val_loss: 0.7587\n",
      "Epoch 38/50\n",
      "\u001b[1m342/342\u001b[0m \u001b[32m━━━━━━━━━━━━━━━━━━━━\u001b[0m\u001b[37m\u001b[0m \u001b[1m12s\u001b[0m 35ms/step - accuracy: 1.0000 - loss: 4.8620e-05 - val_accuracy: 0.9642 - val_loss: 0.7667\n",
      "Epoch 39/50\n",
      "\u001b[1m342/342\u001b[0m \u001b[32m━━━━━━━━━━━━━━━━━━━━\u001b[0m\u001b[37m\u001b[0m \u001b[1m12s\u001b[0m 35ms/step - accuracy: 1.0000 - loss: 4.0584e-05 - val_accuracy: 0.9640 - val_loss: 0.7757\n",
      "Epoch 40/50\n",
      "\u001b[1m342/342\u001b[0m \u001b[32m━━━━━━━━━━━━━━━━━━━━\u001b[0m\u001b[37m\u001b[0m \u001b[1m12s\u001b[0m 34ms/step - accuracy: 1.0000 - loss: 3.6141e-05 - val_accuracy: 0.9640 - val_loss: 0.7850\n",
      "Epoch 41/50\n",
      "\u001b[1m342/342\u001b[0m \u001b[32m━━━━━━━━━━━━━━━━━━━━\u001b[0m\u001b[37m\u001b[0m \u001b[1m13s\u001b[0m 37ms/step - accuracy: 1.0000 - loss: 3.0280e-05 - val_accuracy: 0.9640 - val_loss: 0.7934\n",
      "Epoch 42/50\n",
      "\u001b[1m342/342\u001b[0m \u001b[32m━━━━━━━━━━━━━━━━━━━━\u001b[0m\u001b[37m\u001b[0m \u001b[1m12s\u001b[0m 35ms/step - accuracy: 1.0000 - loss: 2.5807e-05 - val_accuracy: 0.9635 - val_loss: 0.8030\n",
      "Epoch 43/50\n",
      "\u001b[1m342/342\u001b[0m \u001b[32m━━━━━━━━━━━━━━━━━━━━\u001b[0m\u001b[37m\u001b[0m \u001b[1m11s\u001b[0m 31ms/step - accuracy: 1.0000 - loss: 2.2892e-05 - val_accuracy: 0.9636 - val_loss: 0.8134\n",
      "Epoch 44/50\n",
      "\u001b[1m342/342\u001b[0m \u001b[32m━━━━━━━━━━━━━━━━━━━━\u001b[0m\u001b[37m\u001b[0m \u001b[1m10s\u001b[0m 30ms/step - accuracy: 1.0000 - loss: 1.8890e-05 - val_accuracy: 0.9635 - val_loss: 0.8237\n",
      "Epoch 45/50\n",
      "\u001b[1m342/342\u001b[0m \u001b[32m━━━━━━━━━━━━━━━━━━━━\u001b[0m\u001b[37m\u001b[0m \u001b[1m11s\u001b[0m 31ms/step - accuracy: 1.0000 - loss: 1.6044e-05 - val_accuracy: 0.9636 - val_loss: 0.8317\n",
      "Epoch 46/50\n",
      "\u001b[1m342/342\u001b[0m \u001b[32m━━━━━━━━━━━━━━━━━━━━\u001b[0m\u001b[37m\u001b[0m \u001b[1m11s\u001b[0m 32ms/step - accuracy: 1.0000 - loss: 1.3225e-05 - val_accuracy: 0.9636 - val_loss: 0.8423\n",
      "Epoch 47/50\n",
      "\u001b[1m342/342\u001b[0m \u001b[32m━━━━━━━━━━━━━━━━━━━━\u001b[0m\u001b[37m\u001b[0m \u001b[1m11s\u001b[0m 31ms/step - accuracy: 1.0000 - loss: 1.1256e-05 - val_accuracy: 0.9635 - val_loss: 0.8515\n",
      "Epoch 48/50\n",
      "\u001b[1m342/342\u001b[0m \u001b[32m━━━━━━━━━━━━━━━━━━━━\u001b[0m\u001b[37m\u001b[0m \u001b[1m10s\u001b[0m 29ms/step - accuracy: 1.0000 - loss: 9.3183e-06 - val_accuracy: 0.9635 - val_loss: 0.8625\n",
      "Epoch 49/50\n",
      "\u001b[1m342/342\u001b[0m \u001b[32m━━━━━━━━━━━━━━━━━━━━\u001b[0m\u001b[37m\u001b[0m \u001b[1m11s\u001b[0m 31ms/step - accuracy: 1.0000 - loss: 7.9701e-06 - val_accuracy: 0.9631 - val_loss: 0.8727\n",
      "Epoch 50/50\n",
      "\u001b[1m342/342\u001b[0m \u001b[32m━━━━━━━━━━━━━━━━━━━━\u001b[0m\u001b[37m\u001b[0m \u001b[1m11s\u001b[0m 31ms/step - accuracy: 1.0000 - loss: 6.6895e-06 - val_accuracy: 0.9631 - val_loss: 0.8825\n",
      "\u001b[1m171/171\u001b[0m \u001b[32m━━━━━━━━━━━━━━━━━━━━\u001b[0m\u001b[37m\u001b[0m \u001b[1m2s\u001b[0m 11ms/step - accuracy: 0.9617 - loss: 0.8737\n",
      "Precisión del modelo en el conjunto de prueba: 0.9630848169326782\n"
     ]
    },
    {
     "data": {
      "image/png": "[encoded data removed]",
      "text/plain": [
       "<Figure size 640x480 with 1 Axes>"
      ]
     },
     "metadata": {},
     "output_type": "display_data"
    }
   ],
   "source": [
    "import numpy as np\n",
    "import tensorflow as tf\n",
    "from sklearn.model_selection import train_test_split\n",
    "from sklearn.preprocessing import LabelEncoder\n",
    "\n",
    "\n",
    "def dataset_to_numpy(dataset):\n",
    "    images, labels = [], []\n",
    "    for image, label in dataset:\n",
    "        images.append(image.numpy())\n",
    "        labels.append(label.numpy().decode('utf-8'))\n",
    "    return np.array(images), np.array(labels)\n",
    "\n",
    "\n",
    "augmented_images, augmented_labels = dataset_to_numpy(augmented_dataset.unbatch())\n",
    "\n",
    "\n",
    "label_encoder = LabelEncoder()\n",
    "augmented_labels_encoded = label_encoder.fit_transform(augmented_labels)\n",
    "\n",
    "\n",
    "X_train, X_test, y_train, y_test = train_test_split(augmented_images, augmented_labels_encoded, test_size=0.2, random_state=42)\n",
    "\n",
    "\n",
    "model = tf.keras.Sequential([\n",
    "    tf.keras.layers.Conv2D(32, (3, 3), activation='relu', input_shape=(28, 28, 3)),\n",
    "    tf.keras.layers.MaxPooling2D((2, 2)),\n",
    "    tf.keras.layers.Conv2D(64, (3, 3), activation='relu'),\n",
    "    tf.keras.layers.MaxPooling2D((2, 2)),\n",
    "    tf.keras.layers.Conv2D(128, (3, 3), activation='relu'),\n",
    "    tf.keras.layers.Flatten(),\n",
    "    tf.keras.layers.Dense(128, activation='relu'),\n",
    "    tf.keras.layers.Dense(4, activation='softmax')  # 4 clases\n",
    "])\n",
    "\n",
    "\n",
    "model.compile(optimizer='adam',\n",
    "              loss='sparse_categorical_crossentropy',\n",
    "              metrics=['accuracy'])\n",
    "\n",
    "\n",
    "hist = model.fit(X_train, y_train, epochs=50, batch_size=64, validation_data=(X_test, y_test))\n",
    "\n",
    "\n",
    "test_loss, test_acc = model.evaluate(X_test, y_test)\n",
    "print(f'Precisión del modelo en el conjunto de prueba: {test_acc}')\n",
    "\n",
    "train_loss = hist.history['loss']\n",
    "val_loss = hist.history['val_loss']\n",
    "\n",
    "\n",
    "epochs_range = range(1, 51)\n",
    "\n",
    "\n",
    "plt.plot(epochs_range, train_loss, 'b', label='Training loss')\n",
    "plt.plot(epochs_range, val_loss, 'r', label='Validation loss')\n",
    "plt.title('Training and Validation Loss')\n",
    "plt.xlabel('Epochs')\n",
    "plt.ylabel('Loss')\n",
    "plt.legend()\n",
    "plt.show()\n"
   ]
  },
  {
   "cell_type": "code",
   "execution_count": 48,
   "id": "0ce5cec9-e7cd-4780-9da1-7f38dbbcf094",
   "metadata": {},
   "outputs": [
    {
     "name": "stdout",
     "output_type": "stream",
     "text": [
      "\u001b[1m171/171\u001b[0m \u001b[32m━━━━━━━━━━━━━━━━━━━━\u001b[0m\u001b[37m\u001b[0m \u001b[1m1s\u001b[0m 5ms/step - accuracy: 0.9461 - loss: 0.5369\n",
      "Precisión del modelo en el conjunto de prueba: 0.9473684430122375\n"
     ]
    },
    {
     "data": {
      "image/png": "[encoded data removed]",
      "text/plain": [
       "<Figure size 640x480 with 1 Axes>"
      ]
     },
     "metadata": {},
     "output_type": "display_data"
    }
   ],
   "source": [
    "test_loss, test_acc = model.evaluate(X_test, y_test)\n",
    "print(f'Precisión del modelo en el conjunto de prueba: {test_acc}')\n",
    "\n",
    "train_loss = hist.history['loss']\n",
    "val_loss = hist.history['val_loss']\n",
    "\n",
    "\n",
    "epochs_range = range(1, 51)\n",
    "\n",
    "\n",
    "plt.plot(epochs_range, train_loss, 'b', label='Training loss')\n",
    "plt.plot(epochs_range, val_loss, 'r', label='Validation loss')\n",
    "plt.title('Training and Validation Loss')\n",
    "plt.xlabel('Epochs')\n",
    "plt.ylabel('Loss')\n",
    "plt.legend()\n",
    "plt.show()"
   ]
  },
  {
   "cell_type": "code",
   "execution_count": null,
   "id": "a10079ad-77a8-4c77-807a-95434c414b95",
   "metadata": {},
   "outputs": [],
   "source": []
  }
 ],
 "metadata": {
  "colab": {
   "provenance": []
  },
  "kernelspec": {
   "display_name": "Python 3 (ipykernel)",
   "language": "python",
   "name": "python3"
  },
  "language_info": {
   "codemirror_mode": {
    "name": "ipython",
    "version": 3
   },
   "file_extension": ".py",
   "mimetype": "text/x-python",
   "name": "python",
   "nbconvert_exporter": "python",
   "pygments_lexer": "ipython3",
   "version": "3.11.3"
  }
 },
 "nbformat": 4,
 "nbformat_minor": 5
}
